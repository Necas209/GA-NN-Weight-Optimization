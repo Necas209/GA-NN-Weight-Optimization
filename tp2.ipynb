{
 "cells": [
  {
   "cell_type": "code",
   "execution_count": null,
   "metadata": {
    "collapsed": true
   },
   "outputs": [],
   "source": [
    "# Imports\n",
    "from sklearn.datasets import load_iris\n",
    "from sklearn.model_selection import train_test_split\n",
    "from sklearn.preprocessing import StandardScaler\n",
    "from tensorflow.keras.layers import Dense\n",
    "from tensorflow.keras.models import Sequential"
   ]
  },
  {
   "cell_type": "code",
   "execution_count": null,
   "outputs": [],
   "source": [
    "# Load the iris dataset.\n",
    "iris = load_iris()\n",
    "X = iris.data\n",
    "y = iris.target"
   ],
   "metadata": {
    "collapsed": false
   }
  },
  {
   "cell_type": "code",
   "execution_count": null,
   "outputs": [],
   "source": [
    "# Split the dataset into training and testing sets.\n",
    "X_train, X_test, y_train, y_test = train_test_split(X, y, test_size=0.2, random_state=42)"
   ],
   "metadata": {
    "collapsed": false
   }
  },
  {
   "cell_type": "code",
   "execution_count": null,
   "outputs": [],
   "source": [
    "# Scale the data.\n",
    "scaler = StandardScaler()\n",
    "X_train = scaler.fit_transform(X_train)\n",
    "X_test = scaler.transform(X_test)"
   ],
   "metadata": {
    "collapsed": false
   }
  },
  {
   "cell_type": "code",
   "execution_count": null,
   "outputs": [],
   "source": [
    "# Create the Keras model.\n",
    "def create_model(num_inputs, num_outputs):\n",
    "    model = Sequential(\n",
    "        [\n",
    "            Dense(10, input_dim=num_inputs, activation='relu'),\n",
    "            Dense(num_outputs, activation='softmax')\n",
    "        ]\n",
    "    )\n",
    "    model.compile(\n",
    "        loss='sparse_categorical_crossentropy',\n",
    "        optimizer='adam',\n",
    "        metrics=['accuracy']\n",
    "    )\n",
    "    return model"
   ],
   "metadata": {
    "collapsed": false
   }
  },
  {
   "cell_type": "code",
   "execution_count": null,
   "outputs": [],
   "source": [
    "# Define the fitness function.\n",
    "def fitness_func(solution, solution_idx):\n",
    "    model.set_weights(solution)\n",
    "    y_pred = model.predict(X_train)\n",
    "    mse = np.mean((y_train - y_pred) ** 2)\n",
    "    return 1.0 / (mse + 1e-6)"
   ],
   "metadata": {
    "collapsed": false
   }
  },
  {
   "cell_type": "code",
   "execution_count": null,
   "outputs": [],
   "source": [
    "# Define the parameters.\n",
    "num_inputs = X_train.shape[1]\n",
    "num_outputs = len(np.unique(y_train))\n",
    "sol_per_pop = 10\n",
    "num_generations = 50\n",
    "mutation_rate = 0.1"
   ],
   "metadata": {
    "collapsed": false
   }
  },
  {
   "cell_type": "code",
   "execution_count": null,
   "outputs": [],
   "source": [
    "# Define the callback function.\n",
    "def on_generation(ga_instance):\n",
    "    print(f'Generation: {ga_instance.generations_completed}')\n",
    "    print(f'Fitness: {ga_instance.best_solution()[1]}')"
   ],
   "metadata": {
    "collapsed": false
   }
  },
  {
   "cell_type": "code",
   "execution_count": null,
   "outputs": [],
   "source": [
    "# Create the model.\n",
    "model = create_model(num_inputs, num_outputs)\n",
    "initial_weights = model.get_weights()\n",
    "keras_ga = pygad.kerasga.KerasGA(\n",
    "    model=model,\n",
    "    num_solutions=sol_per_pop,\n",
    "    num_parents_mating=sol_per_pop // 2,\n",
    "    initial_population=initial_weights,\n",
    "    mutation_percent_genes=mutation_rate * 100,\n",
    "    fitness_func=fitness_func,\n",
    "    on_generation=on_generation\n",
    ")"
   ],
   "metadata": {
    "collapsed": false
   }
  },
  {
   "cell_type": "code",
   "execution_count": null,
   "outputs": [],
   "source": [
    "# Run the genetic algorithm.\n",
    "keras_ga.run(num_generations=num_generations)"
   ],
   "metadata": {
    "collapsed": false
   }
  },
  {
   "cell_type": "code",
   "execution_count": null,
   "outputs": [],
   "source": [
    "# Evaluate the final model on the testing set.\n",
    "best_solution = keras_ga.best_solution()\n",
    "model.set_weights(best_solution)\n",
    "y_pred = model.predict(X_test)\n",
    "accuracy = np.mean(np.argmax(y_pred, axis=1) == y_test)\n",
    "print(f'Test Accuracy: {accuracy:.2f}')"
   ],
   "metadata": {
    "collapsed": false
   }
  },
  {
   "cell_type": "code",
   "execution_count": null,
   "outputs": [],
   "source": [
    "# Plot the fitness history.\n",
    "pygad.plotting.plot_fitness_history(keras_ga.fitness_history)\n",
    "plt.show()"
   ],
   "metadata": {
    "collapsed": false
   }
  }
 ],
 "metadata": {
  "kernelspec": {
   "display_name": "Python 3",
   "language": "python",
   "name": "python3"
  },
  "language_info": {
   "codemirror_mode": {
    "name": "ipython",
    "version": 2
   },
   "file_extension": ".py",
   "mimetype": "text/x-python",
   "name": "python",
   "nbconvert_exporter": "python",
   "pygments_lexer": "ipython2",
   "version": "2.7.6"
  }
 },
 "nbformat": 4,
 "nbformat_minor": 0
}
