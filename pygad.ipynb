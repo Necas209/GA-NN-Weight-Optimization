{
 "cells": [
  {
   "cell_type": "code",
   "execution_count": 1,
   "metadata": {
    "ExecuteTime": {
     "end_time": "2023-04-27T23:16:26.685495Z",
     "start_time": "2023-04-27T23:16:26.667309Z"
    },
    "collapsed": false,
    "jupyter": {
     "outputs_hidden": false
    }
   },
   "outputs": [],
   "source": [
    "import numpy as np\n",
    "import pygad\n",
    "import pygad.torchga as torchga\n",
    "import torch\n",
    "import torch.nn as nn\n",
    "from sklearn.datasets import load_iris\n",
    "from sklearn.model_selection import train_test_split\n",
    "from sklearn.preprocessing import StandardScaler\n",
    "from torchinfo import summary"
   ]
  },
  {
   "cell_type": "code",
   "execution_count": 2,
   "metadata": {
    "ExecuteTime": {
     "end_time": "2023-04-27T23:16:27.324867Z",
     "start_time": "2023-04-27T23:16:27.310893Z"
    },
    "collapsed": false,
    "jupyter": {
     "outputs_hidden": false
    }
   },
   "outputs": [],
   "source": [
    "# Load the iris dataset.\n",
    "iris = load_iris()\n",
    "X: np.ndarray = iris.data\n",
    "y: np.ndarray = iris.target"
   ]
  },
  {
   "cell_type": "code",
   "execution_count": 3,
   "metadata": {
    "ExecuteTime": {
     "end_time": "2023-04-27T23:16:27.977797Z",
     "start_time": "2023-04-27T23:16:27.959981Z"
    },
    "collapsed": false,
    "jupyter": {
     "outputs_hidden": false
    }
   },
   "outputs": [],
   "source": [
    "# Split the dataset into training and testing sets.\n",
    "X_train, X_test, y_train, y_test = train_test_split(X, y, test_size=0.1, random_state=42)"
   ]
  },
  {
   "cell_type": "code",
   "execution_count": 4,
   "metadata": {
    "ExecuteTime": {
     "end_time": "2023-04-27T23:16:30.580770Z",
     "start_time": "2023-04-27T23:16:30.575211Z"
    },
    "collapsed": false,
    "jupyter": {
     "outputs_hidden": false
    }
   },
   "outputs": [],
   "source": [
    "# Scale the data.\n",
    "scaler = StandardScaler()\n",
    "X_train = scaler.fit_transform(X_train)\n",
    "X_test = scaler.transform(X_test)"
   ]
  },
  {
   "cell_type": "code",
   "execution_count": 5,
   "metadata": {
    "ExecuteTime": {
     "end_time": "2023-04-27T23:16:31.491853Z",
     "start_time": "2023-04-27T23:16:31.473068Z"
    },
    "collapsed": false,
    "jupyter": {
     "outputs_hidden": false
    }
   },
   "outputs": [],
   "source": [
    "X_train = torch.from_numpy(X_train).float()\n",
    "X_test = torch.from_numpy(X_test).float()\n",
    "y_train = torch.from_numpy(y_train).long()\n",
    "y_test = torch.from_numpy(y_test).long()"
   ]
  },
  {
   "cell_type": "code",
   "execution_count": 6,
   "metadata": {
    "ExecuteTime": {
     "end_time": "2023-04-27T23:16:31.846030Z",
     "start_time": "2023-04-27T23:16:31.831896Z"
    },
    "collapsed": false,
    "jupyter": {
     "outputs_hidden": false
    }
   },
   "outputs": [],
   "source": [
    "# Define the parameters.\n",
    "sol_per_pop = 10\n",
    "num_generations = 50"
   ]
  },
  {
   "cell_type": "code",
   "execution_count": 7,
   "metadata": {
    "ExecuteTime": {
     "end_time": "2023-04-27T23:16:32.174800Z",
     "start_time": "2023-04-27T23:16:32.157839Z"
    },
    "collapsed": false,
    "jupyter": {
     "outputs_hidden": false
    }
   },
   "outputs": [],
   "source": [
    "# Create the model.\n",
    "model = nn.Sequential(\n",
    "    nn.Linear(4, 10),\n",
    "    nn.ReLU(),\n",
    "    nn.Linear(10, 3),\n",
    "    nn.Softmax(dim=1)\n",
    ")"
   ]
  },
  {
   "cell_type": "code",
   "execution_count": 8,
   "metadata": {
    "ExecuteTime": {
     "end_time": "2023-04-27T23:16:32.887355Z",
     "start_time": "2023-04-27T23:16:32.871019Z"
    },
    "collapsed": false,
    "jupyter": {
     "outputs_hidden": false
    }
   },
   "outputs": [],
   "source": [
    "# Create an instance of the pygad.torchga.TorchGA class to build the initial population.\n",
    "torch_ga = torchga.TorchGA(\n",
    "    model=model,\n",
    "    num_solutions=sol_per_pop,\n",
    ")"
   ]
  },
  {
   "cell_type": "code",
   "execution_count": 9,
   "metadata": {
    "ExecuteTime": {
     "end_time": "2023-04-27T23:16:33.258681Z",
     "start_time": "2023-04-27T23:16:33.209652Z"
    },
    "collapsed": false,
    "jupyter": {
     "outputs_hidden": false
    }
   },
   "outputs": [
    {
     "name": "stderr",
     "output_type": "stream",
     "text": [
      "C:\\Users\\diogo\\miniconda3\\envs\\torch\\lib\\site-packages\\torchinfo\\torchinfo.py:477: UserWarning: TypedStorage is deprecated. It will be removed in the future and UntypedStorage will be the only storage class. This should only matter to you if you are using storages directly.  To access UntypedStorage directly, use tensor.untyped_storage() instead of tensor.storage()\n",
      "  action_fn=lambda data: sys.getsizeof(data.storage()),\n",
      "C:\\Users\\diogo\\miniconda3\\envs\\torch\\lib\\site-packages\\torch\\storage.py:665: UserWarning: TypedStorage is deprecated. It will be removed in the future and UntypedStorage will be the only storage class. This should only matter to you if you are using storages directly.  To access UntypedStorage directly, use tensor.untyped_storage() instead of tensor.storage()\n",
      "  return super().__sizeof__() + self.nbytes()\n"
     ]
    },
    {
     "data": {
      "text/plain": [
       "==========================================================================================\n",
       "Layer (type:depth-idx)                   Output Shape              Param #\n",
       "==========================================================================================\n",
       "Sequential                               [1, 3]                    --\n",
       "├─Linear: 1-1                            [1, 10]                   50\n",
       "├─ReLU: 1-2                              [1, 10]                   --\n",
       "├─Linear: 1-3                            [1, 3]                    33\n",
       "├─Softmax: 1-4                           [1, 3]                    --\n",
       "==========================================================================================\n",
       "Total params: 83\n",
       "Trainable params: 83\n",
       "Non-trainable params: 0\n",
       "Total mult-adds (M): 0.00\n",
       "==========================================================================================\n",
       "Input size (MB): 0.00\n",
       "Forward/backward pass size (MB): 0.00\n",
       "Params size (MB): 0.00\n",
       "Estimated Total Size (MB): 0.00\n",
       "=========================================================================================="
      ]
     },
     "execution_count": 9,
     "metadata": {},
     "output_type": "execute_result"
    }
   ],
   "source": [
    "# batch_size = 16\n",
    "summary(model, input_size=(1, 4))"
   ]
  },
  {
   "cell_type": "code",
   "execution_count": 10,
   "metadata": {
    "ExecuteTime": {
     "end_time": "2023-04-27T23:16:39.430374Z",
     "start_time": "2023-04-27T23:16:39.403571Z"
    },
    "collapsed": false,
    "jupyter": {
     "outputs_hidden": false
    }
   },
   "outputs": [],
   "source": [
    "# Some parameters are initialized within the constructor.\n",
    "initial_population = torch_ga.population_weights"
   ]
  },
  {
   "cell_type": "code",
   "execution_count": 11,
   "metadata": {
    "ExecuteTime": {
     "end_time": "2023-04-27T23:16:40.417336Z",
     "start_time": "2023-04-27T23:16:40.407846Z"
    },
    "collapsed": false,
    "jupyter": {
     "outputs_hidden": false
    }
   },
   "outputs": [],
   "source": [
    "# Define the loss function.\n",
    "loss_fn = nn.CrossEntropyLoss()"
   ]
  },
  {
   "cell_type": "code",
   "execution_count": 12,
   "metadata": {
    "ExecuteTime": {
     "end_time": "2023-04-27T23:16:41.104142Z",
     "start_time": "2023-04-27T23:16:41.091884Z"
    },
    "collapsed": false,
    "jupyter": {
     "outputs_hidden": false
    }
   },
   "outputs": [],
   "source": [
    "# Define the fitness function for classification.\n",
    "def fitness_func(_ga: pygad.GA, sol: np.ndarray, _sol_idx: int) -> float:\n",
    "    preds = torchga.predict(model=model.cpu(),\n",
    "                            solution=sol,\n",
    "                            data=X_train)\n",
    "    fitness = 1.0 / (loss_fn(preds, y_train).detach().numpy() + 1e-8)\n",
    "    return fitness"
   ]
  },
  {
   "cell_type": "code",
   "execution_count": 164,
   "metadata": {
    "ExecuteTime": {
     "start_time": "2023-04-27T23:57:28.250360Z",
     "end_time": "2023-04-27T23:57:28.264360Z"
    },
    "collapsed": false,
    "jupyter": {
     "outputs_hidden": false
    }
   },
   "outputs": [],
   "source": [
    "# Define the callback function.\n",
    "# noinspection PyShadowingNames\n",
    "def on_generation(ga: pygad.GA) -> None:\n",
    "    print(f'Gen#{ga.generations_completed:0=2}, Fitness: {ga.best_solution()[1]}')"
   ]
  },
  {
   "cell_type": "code",
   "execution_count": 165,
   "metadata": {
    "ExecuteTime": {
     "start_time": "2023-04-27T23:57:28.542874Z",
     "end_time": "2023-04-27T23:57:28.548148Z"
    },
    "collapsed": false,
    "jupyter": {
     "outputs_hidden": false
    }
   },
   "outputs": [],
   "source": [
    "# Create an instance of the GA class inside the ga module.\n",
    "ga = pygad.GA(\n",
    "    num_generations=num_generations,\n",
    "    num_parents_mating=sol_per_pop // 2,\n",
    "    initial_population=initial_population,\n",
    "    fitness_func=fitness_func,\n",
    "    on_generation=on_generation,\n",
    ")"
   ]
  },
  {
   "cell_type": "code",
   "execution_count": 166,
   "metadata": {
    "ExecuteTime": {
     "start_time": "2023-04-27T23:57:28.754722Z",
     "end_time": "2023-04-27T23:57:29.512121Z"
    },
    "collapsed": false,
    "jupyter": {
     "outputs_hidden": false
    }
   },
   "outputs": [
    {
     "name": "stdout",
     "output_type": "stream",
     "text": [
      "Gen#01, Fitness: 1.1900599037353496\n",
      "Gen#02, Fitness: 1.1939120165478048\n",
      "Gen#03, Fitness: 1.2502427155310072\n",
      "Gen#04, Fitness: 1.2744013373097203\n",
      "Gen#05, Fitness: 1.2744013373097203\n",
      "Gen#06, Fitness: 1.3096510824545786\n",
      "Gen#07, Fitness: 1.313579069726608\n",
      "Gen#08, Fitness: 1.313579069726608\n",
      "Gen#09, Fitness: 1.4125254347724279\n",
      "Gen#10, Fitness: 1.4570124547086483\n",
      "Gen#11, Fitness: 1.4570124547086483\n",
      "Gen#12, Fitness: 1.4574750826808072\n",
      "Gen#13, Fitness: 1.5130824662310964\n",
      "Gen#14, Fitness: 1.570167458032895\n",
      "Gen#15, Fitness: 1.570167458032895\n",
      "Gen#16, Fitness: 1.570167458032895\n",
      "Gen#17, Fitness: 1.570167458032895\n",
      "Gen#18, Fitness: 1.5929823967826195\n",
      "Gen#19, Fitness: 1.5946400303453707\n",
      "Gen#20, Fitness: 1.6215502609794425\n",
      "Gen#21, Fitness: 1.6215502609794425\n",
      "Gen#22, Fitness: 1.6215502609794425\n",
      "Gen#23, Fitness: 1.6215502609794425\n",
      "Gen#24, Fitness: 1.6215502609794425\n",
      "Gen#25, Fitness: 1.6215502609794425\n",
      "Gen#26, Fitness: 1.6321193421385587\n",
      "Gen#27, Fitness: 1.6321193421385587\n",
      "Gen#28, Fitness: 1.6321193421385587\n",
      "Gen#29, Fitness: 1.6321193421385587\n",
      "Gen#30, Fitness: 1.6725702229093893\n",
      "Gen#31, Fitness: 1.6725702229093893\n",
      "Gen#32, Fitness: 1.6725702229093893\n",
      "Gen#33, Fitness: 1.6725702229093893\n",
      "Gen#34, Fitness: 1.680807366044052\n",
      "Gen#35, Fitness: 1.680807366044052\n",
      "Gen#36, Fitness: 1.680807366044052\n",
      "Gen#37, Fitness: 1.680807366044052\n",
      "Gen#38, Fitness: 1.680807366044052\n",
      "Gen#39, Fitness: 1.6910548628000404\n",
      "Gen#40, Fitness: 1.6910548628000404\n",
      "Gen#41, Fitness: 1.6910548628000404\n",
      "Gen#42, Fitness: 1.6910548628000404\n",
      "Gen#43, Fitness: 1.6910548628000404\n",
      "Gen#44, Fitness: 1.6910548628000404\n",
      "Gen#45, Fitness: 1.6917417118803206\n",
      "Gen#46, Fitness: 1.693811938088422\n",
      "Gen#47, Fitness: 1.693811938088422\n",
      "Gen#48, Fitness: 1.7127892177075088\n",
      "Gen#49, Fitness: 1.7127892177075088\n",
      "Gen#50, Fitness: 1.7237554958501575\n"
     ]
    }
   ],
   "source": [
    "# Run the genetic algorithm.\n",
    "ga.run()"
   ]
  },
  {
   "cell_type": "code",
   "execution_count": 16,
   "metadata": {
    "ExecuteTime": {
     "end_time": "2023-04-27T23:16:49.155192Z",
     "start_time": "2023-04-27T23:16:49.060477Z"
    },
    "collapsed": false,
    "jupyter": {
     "outputs_hidden": false
    }
   },
   "outputs": [
    {
     "data": {
      "image/png": "[encoded data removed]",
      "text/plain": [
       "<Figure size 640x480 with 1 Axes>"
      ]
     },
     "metadata": {},
     "output_type": "display_data"
    }
   ],
   "source": [
    "# After the generations complete, some plots are shown that summarize\n",
    "# how the outputs/fitness values evolve over generations.\n",
    "_ = ga.plot_fitness(\n",
    "    title=\"PyGAD & PyTorch - Iteration vs. Fitness\",\n",
    "    linewidth=4\n",
    ")"
   ]
  },
  {
   "cell_type": "code",
   "execution_count": 17,
   "metadata": {
    "ExecuteTime": {
     "end_time": "2023-04-27T23:16:51.411705Z",
     "start_time": "2023-04-27T23:16:51.382734Z"
    },
    "collapsed": false,
    "jupyter": {
     "outputs_hidden": false
    }
   },
   "outputs": [
    {
     "name": "stdout",
     "output_type": "stream",
     "text": [
      "Fitness value of the best solution = 1.7365702912376162\n",
      "Index of the best solution : 0\n"
     ]
    }
   ],
   "source": [
    "# Returning the details of the best solution.\n",
    "solution, solution_fitness, solution_idx = ga.best_solution()\n",
    "print(f\"Fitness value of the best solution = {solution_fitness}\")\n",
    "print(f\"Index of the best solution : {solution_idx}\")"
   ]
  },
  {
   "cell_type": "code",
   "execution_count": 18,
   "metadata": {
    "ExecuteTime": {
     "end_time": "2023-04-27T23:20:56.195916Z",
     "start_time": "2023-04-27T23:20:56.187258Z"
    },
    "collapsed": false,
    "jupyter": {
     "outputs_hidden": false
    }
   },
   "outputs": [
    {
     "data": {
      "text/plain": [
       "<All keys matched successfully>"
      ]
     },
     "execution_count": 18,
     "metadata": {},
     "output_type": "execute_result"
    }
   ],
   "source": [
    "# Fetch the parameters of the best solution.\n",
    "best_solution_weights = torchga.model_weights_as_dict(\n",
    "    model=model,\n",
    "    weights_vector=solution\n",
    ")\n",
    "model.load_state_dict(best_solution_weights)"
   ]
  },
  {
   "cell_type": "code",
   "execution_count": 19,
   "metadata": {
    "ExecuteTime": {
     "end_time": "2023-04-27T23:29:09.920499Z",
     "start_time": "2023-04-27T23:29:09.912731Z"
    },
    "collapsed": false,
    "jupyter": {
     "outputs_hidden": false
    }
   },
   "outputs": [],
   "source": [
    "# Calculate the predictions of the best solution.\n",
    "def calculate_metrics(x: torch.Tensor, yt: torch.Tensor) -> None:\n",
    "    preds = model(x)\n",
    "    # Calculate the crossentropy loss of the trained model.\n",
    "    loss = loss_fn(preds, yt).detach().numpy()\n",
    "    print(f\"Crossentropy : {loss}\")\n",
    "    # Calculate the classification accuracy for the trained model.\n",
    "    preds = preds.detach().numpy()\n",
    "    yt = yt.detach().numpy()\n",
    "    acc = np.sum(np.argmax(preds, axis=1) == yt) / len(yt)\n",
    "    print(f\"Accuracy : {acc}\")"
   ]
  },
  {
   "cell_type": "code",
   "execution_count": 20,
   "metadata": {
    "ExecuteTime": {
     "end_time": "2023-04-27T23:29:31.004746Z",
     "start_time": "2023-04-27T23:29:30.995236Z"
    },
    "collapsed": false,
    "jupyter": {
     "outputs_hidden": false
    }
   },
   "outputs": [
    {
     "name": "stdout",
     "output_type": "stream",
     "text": [
      "On the training set:\n",
      "Crossentropy : 0.5758476853370667\n",
      "Accuracy : 0.9851851851851852\n"
     ]
    }
   ],
   "source": [
    "print(\"On the training set:\")\n",
    "calculate_metrics(X_train, y_train)"
   ]
  },
  {
   "cell_type": "code",
   "execution_count": 21,
   "metadata": {
    "ExecuteTime": {
     "end_time": "2023-04-27T23:29:31.825525Z",
     "start_time": "2023-04-27T23:29:31.804163Z"
    },
    "collapsed": false,
    "jupyter": {
     "outputs_hidden": false
    }
   },
   "outputs": [
    {
     "name": "stdout",
     "output_type": "stream",
     "text": [
      "On the testing set:\n",
      "Crossentropy : 0.5540574193000793\n",
      "Accuracy : 1.0\n"
     ]
    }
   ],
   "source": [
    "print(\"On the testing set:\")\n",
    "calculate_metrics(X_test, y_test)"
   ]
  }
 ],
 "metadata": {
  "kernelspec": {
   "display_name": "Python 3 (ipykernel)",
   "language": "python",
   "name": "python3"
  },
  "language_info": {
   "codemirror_mode": {
    "name": "ipython",
    "version": 3
   },
   "file_extension": ".py",
   "mimetype": "text/x-python",
   "name": "python",
   "nbconvert_exporter": "python",
   "pygments_lexer": "ipython3",
   "version": "3.10.11"
  }
 },
 "nbformat": 4,
 "nbformat_minor": 4
}
