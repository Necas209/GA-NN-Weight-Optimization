{
 "cells": [
  {
   "cell_type": "code",
   "execution_count": 105,
   "outputs": [],
   "source": [
    "import numpy as np\n",
    "import pygad\n",
    "import pygad.torchga as torchga\n",
    "import torch\n",
    "import torch.nn as nn\n",
    "from sklearn.datasets import load_iris\n",
    "from sklearn.model_selection import train_test_split\n",
    "from sklearn.preprocessing import StandardScaler\n",
    "from torchinfo import summary"
   ],
   "metadata": {
    "collapsed": false,
    "ExecuteTime": {
     "start_time": "2023-04-27T23:16:26.667309Z",
     "end_time": "2023-04-27T23:16:26.685495Z"
    }
   }
  },
  {
   "cell_type": "code",
   "execution_count": 106,
   "outputs": [],
   "source": [
    "# Load the iris dataset.\n",
    "iris = load_iris()\n",
    "X: np.ndarray = iris.data\n",
    "y: np.ndarray = iris.target"
   ],
   "metadata": {
    "collapsed": false,
    "ExecuteTime": {
     "start_time": "2023-04-27T23:16:27.310893Z",
     "end_time": "2023-04-27T23:16:27.324867Z"
    }
   }
  },
  {
   "cell_type": "code",
   "execution_count": 107,
   "outputs": [],
   "source": [
    "# Split the dataset into training and testing sets.\n",
    "X_train, X_test, y_train, y_test = train_test_split(X, y, test_size=0.1, random_state=42)"
   ],
   "metadata": {
    "collapsed": false,
    "ExecuteTime": {
     "start_time": "2023-04-27T23:16:27.959981Z",
     "end_time": "2023-04-27T23:16:27.977797Z"
    }
   }
  },
  {
   "cell_type": "code",
   "execution_count": 108,
   "outputs": [],
   "source": [
    "# Scale the data.\n",
    "scaler = StandardScaler()\n",
    "X_train = scaler.fit_transform(X_train)\n",
    "X_test = scaler.transform(X_test)"
   ],
   "metadata": {
    "collapsed": false,
    "ExecuteTime": {
     "start_time": "2023-04-27T23:16:30.575211Z",
     "end_time": "2023-04-27T23:16:30.580770Z"
    }
   }
  },
  {
   "cell_type": "code",
   "execution_count": 109,
   "outputs": [],
   "source": [
    "X_train = torch.from_numpy(X_train).float()\n",
    "X_test = torch.from_numpy(X_test).float()\n",
    "y_train = torch.from_numpy(y_train).long()\n",
    "y_test = torch.from_numpy(y_test).long()"
   ],
   "metadata": {
    "collapsed": false,
    "ExecuteTime": {
     "start_time": "2023-04-27T23:16:31.473068Z",
     "end_time": "2023-04-27T23:16:31.491853Z"
    }
   }
  },
  {
   "cell_type": "code",
   "execution_count": 110,
   "outputs": [],
   "source": [
    "# Define the parameters.\n",
    "sol_per_pop = 10\n",
    "num_generations = 50"
   ],
   "metadata": {
    "collapsed": false,
    "ExecuteTime": {
     "start_time": "2023-04-27T23:16:31.831896Z",
     "end_time": "2023-04-27T23:16:31.846030Z"
    }
   }
  },
  {
   "cell_type": "code",
   "execution_count": 111,
   "outputs": [],
   "source": [
    "# Create the model.\n",
    "model = nn.Sequential(\n",
    "    nn.Linear(4, 10),\n",
    "    nn.ReLU(),\n",
    "    nn.Linear(10, 3),\n",
    "    nn.Softmax(dim=1)\n",
    ")"
   ],
   "metadata": {
    "collapsed": false,
    "ExecuteTime": {
     "start_time": "2023-04-27T23:16:32.157839Z",
     "end_time": "2023-04-27T23:16:32.174800Z"
    }
   }
  },
  {
   "cell_type": "code",
   "execution_count": 112,
   "outputs": [],
   "source": [
    "# Create an instance of the pygad.torchga.TorchGA class to build the initial population.\n",
    "torch_ga = torchga.TorchGA(\n",
    "    model=model,\n",
    "    num_solutions=sol_per_pop,\n",
    ")"
   ],
   "metadata": {
    "collapsed": false,
    "ExecuteTime": {
     "start_time": "2023-04-27T23:16:32.871019Z",
     "end_time": "2023-04-27T23:16:32.887355Z"
    }
   }
  },
  {
   "cell_type": "code",
   "execution_count": 113,
   "outputs": [
    {
     "name": "stderr",
     "output_type": "stream",
     "text": [
      "C:\\Users\\diogo\\miniconda3\\envs\\torch\\lib\\site-packages\\torchinfo\\torchinfo.py:477: UserWarning: TypedStorage is deprecated. It will be removed in the future and UntypedStorage will be the only storage class. This should only matter to you if you are using storages directly.  To access UntypedStorage directly, use tensor.untyped_storage() instead of tensor.storage()\n",
      "  action_fn=lambda data: sys.getsizeof(data.storage()),\n",
      "C:\\Users\\diogo\\miniconda3\\envs\\torch\\lib\\site-packages\\torch\\storage.py:665: UserWarning: TypedStorage is deprecated. It will be removed in the future and UntypedStorage will be the only storage class. This should only matter to you if you are using storages directly.  To access UntypedStorage directly, use tensor.untyped_storage() instead of tensor.storage()\n",
      "  return super().__sizeof__() + self.nbytes()\n"
     ]
    },
    {
     "data": {
      "text/plain": "==========================================================================================\nLayer (type:depth-idx)                   Output Shape              Param #\n==========================================================================================\nSequential                               [1, 3]                    --\n├─Linear: 1-1                            [1, 10]                   50\n├─ReLU: 1-2                              [1, 10]                   --\n├─Linear: 1-3                            [1, 3]                    33\n├─Softmax: 1-4                           [1, 3]                    --\n==========================================================================================\nTotal params: 83\nTrainable params: 83\nNon-trainable params: 0\nTotal mult-adds (M): 0.00\n==========================================================================================\nInput size (MB): 0.00\nForward/backward pass size (MB): 0.00\nParams size (MB): 0.00\nEstimated Total Size (MB): 0.00\n=========================================================================================="
     },
     "execution_count": 113,
     "metadata": {},
     "output_type": "execute_result"
    }
   ],
   "source": [
    "# batch_size = 16\n",
    "summary(model, input_size=(1, 4))"
   ],
   "metadata": {
    "collapsed": false,
    "ExecuteTime": {
     "start_time": "2023-04-27T23:16:33.209652Z",
     "end_time": "2023-04-27T23:16:33.258681Z"
    }
   }
  },
  {
   "cell_type": "code",
   "execution_count": 114,
   "outputs": [],
   "source": [
    "# Some parameters are initialized within the constructor.\n",
    "initial_population = torch_ga.population_weights"
   ],
   "metadata": {
    "collapsed": false,
    "ExecuteTime": {
     "start_time": "2023-04-27T23:16:39.403571Z",
     "end_time": "2023-04-27T23:16:39.430374Z"
    }
   }
  },
  {
   "cell_type": "code",
   "execution_count": 115,
   "outputs": [],
   "source": [
    "# Define the loss function.\n",
    "loss_fn = nn.CrossEntropyLoss()"
   ],
   "metadata": {
    "collapsed": false,
    "ExecuteTime": {
     "start_time": "2023-04-27T23:16:40.407846Z",
     "end_time": "2023-04-27T23:16:40.417336Z"
    }
   }
  },
  {
   "cell_type": "code",
   "execution_count": 116,
   "outputs": [],
   "source": [
    "# Define the fitness function for classification.\n",
    "def fitness_func(_ga: pygad.GA, sol: np.ndarray, _sol_idx: int) -> float:\n",
    "    preds = torchga.predict(model=model.cpu(),\n",
    "                            solution=sol,\n",
    "                            data=X_train)\n",
    "    fitness = 1.0 / (loss_fn(preds, y_train).detach().numpy() + 1e-8)\n",
    "    return fitness"
   ],
   "metadata": {
    "collapsed": false,
    "ExecuteTime": {
     "start_time": "2023-04-27T23:16:41.091884Z",
     "end_time": "2023-04-27T23:16:41.104142Z"
    }
   }
  },
  {
   "cell_type": "code",
   "execution_count": 117,
   "outputs": [],
   "source": [
    "# Define the callback function.\n",
    "# noinspection PyShadowingNames\n",
    "def on_generation(ga: pygad.GA) -> None:\n",
    "    print(f'Generation: {ga.generations_completed}')\n",
    "    print(f'Fitness: {ga.best_solution()[1]}')"
   ],
   "metadata": {
    "collapsed": false,
    "ExecuteTime": {
     "start_time": "2023-04-27T23:16:43.013347Z",
     "end_time": "2023-04-27T23:16:43.028041Z"
    }
   }
  },
  {
   "cell_type": "code",
   "execution_count": 118,
   "outputs": [],
   "source": [
    "# Create an instance of the GA class inside the ga module.\n",
    "ga = pygad.GA(\n",
    "    num_generations=num_generations,\n",
    "    num_parents_mating=sol_per_pop // 2,\n",
    "    initial_population=initial_population,\n",
    "    fitness_func=fitness_func,\n",
    "    on_generation=on_generation,\n",
    ")"
   ],
   "metadata": {
    "collapsed": false,
    "ExecuteTime": {
     "start_time": "2023-04-27T23:16:43.780529Z",
     "end_time": "2023-04-27T23:16:43.786529Z"
    }
   }
  },
  {
   "cell_type": "code",
   "execution_count": 119,
   "outputs": [
    {
     "name": "stdout",
     "output_type": "stream",
     "text": [
      "Generation: 1\n",
      "Fitness: 1.1943092610866668\n",
      "Generation: 2\n",
      "Fitness: 1.1943092610866668\n",
      "Generation: 3\n",
      "Fitness: 1.1943092610866668\n",
      "Generation: 4\n",
      "Fitness: 1.210569738793921\n",
      "Generation: 5\n",
      "Fitness: 1.2559331383311585\n",
      "Generation: 6\n",
      "Fitness: 1.2559331383311585\n",
      "Generation: 7\n",
      "Fitness: 1.2878498820926414\n",
      "Generation: 8\n",
      "Fitness: 1.314872926725201\n",
      "Generation: 9\n",
      "Fitness: 1.314872926725201\n",
      "Generation: 10\n",
      "Fitness: 1.3157298296636963\n",
      "Generation: 11\n",
      "Fitness: 1.3422351391640255\n",
      "Generation: 12\n",
      "Fitness: 1.3691346465685466\n",
      "Generation: 13\n",
      "Fitness: 1.387121897342027\n",
      "Generation: 14\n",
      "Fitness: 1.387121897342027\n",
      "Generation: 15\n",
      "Fitness: 1.4298874735648246\n",
      "Generation: 16\n",
      "Fitness: 1.4298874735648246\n",
      "Generation: 17\n",
      "Fitness: 1.4298874735648246\n",
      "Generation: 18\n",
      "Fitness: 1.4368728115362817\n",
      "Generation: 19\n",
      "Fitness: 1.4368728115362817\n",
      "Generation: 20\n",
      "Fitness: 1.4546745770812497\n",
      "Generation: 21\n",
      "Fitness: 1.4546745770812497\n",
      "Generation: 22\n",
      "Fitness: 1.4546745770812497\n",
      "Generation: 23\n",
      "Fitness: 1.4546745770812497\n",
      "Generation: 24\n",
      "Fitness: 1.4546745770812497\n",
      "Generation: 25\n",
      "Fitness: 1.500397541504106\n",
      "Generation: 26\n",
      "Fitness: 1.500397541504106\n",
      "Generation: 27\n",
      "Fitness: 1.500397541504106\n",
      "Generation: 28\n",
      "Fitness: 1.5121024999176493\n",
      "Generation: 29\n",
      "Fitness: 1.5310065906389707\n",
      "Generation: 30\n",
      "Fitness: 1.5598928811980144\n",
      "Generation: 31\n",
      "Fitness: 1.575335479672787\n",
      "Generation: 32\n",
      "Fitness: 1.5912651161394256\n",
      "Generation: 33\n",
      "Fitness: 1.5912651161394256\n",
      "Generation: 34\n",
      "Fitness: 1.5912651161394256\n",
      "Generation: 35\n",
      "Fitness: 1.5912651161394256\n",
      "Generation: 36\n",
      "Fitness: 1.615401950298651\n",
      "Generation: 37\n",
      "Fitness: 1.615401950298651\n",
      "Generation: 38\n",
      "Fitness: 1.628198609418994\n",
      "Generation: 39\n",
      "Fitness: 1.628198609418994\n",
      "Generation: 40\n",
      "Fitness: 1.6629382176395324\n",
      "Generation: 41\n",
      "Fitness: 1.6706131131752022\n",
      "Generation: 42\n",
      "Fitness: 1.6706131131752022\n",
      "Generation: 43\n",
      "Fitness: 1.6706131131752022\n",
      "Generation: 44\n",
      "Fitness: 1.6755370067397664\n",
      "Generation: 45\n",
      "Fitness: 1.7127103599376179\n",
      "Generation: 46\n",
      "Fitness: 1.7127103599376179\n",
      "Generation: 47\n",
      "Fitness: 1.7127103599376179\n",
      "Generation: 48\n",
      "Fitness: 1.7127103599376179\n",
      "Generation: 49\n",
      "Fitness: 1.7139750574673012\n",
      "Generation: 50\n",
      "Fitness: 1.7139750574673012\n"
     ]
    }
   ],
   "source": [
    "# Run the genetic algorithm.\n",
    "ga.run()"
   ],
   "metadata": {
    "collapsed": false,
    "ExecuteTime": {
     "start_time": "2023-04-27T23:16:44.434085Z",
     "end_time": "2023-04-27T23:16:45.236888Z"
    }
   }
  },
  {
   "cell_type": "code",
   "execution_count": 120,
   "outputs": [
    {
     "data": {
      "text/plain": "<Figure size 640x480 with 1 Axes>",
      "image/png": "[encoded data removed]"
     },
     "metadata": {},
     "output_type": "display_data"
    }
   ],
   "source": [
    "# After the generations complete, some plots are shown that summarize\n",
    "# how the outputs/fitness values evolve over generations.\n",
    "_ = ga.plot_fitness(\n",
    "    title=\"PyGAD & PyTorch - Iteration vs. Fitness\",\n",
    "    linewidth=4\n",
    ")"
   ],
   "metadata": {
    "collapsed": false,
    "ExecuteTime": {
     "start_time": "2023-04-27T23:16:49.060477Z",
     "end_time": "2023-04-27T23:16:49.155192Z"
    }
   }
  },
  {
   "cell_type": "code",
   "execution_count": 121,
   "outputs": [
    {
     "name": "stdout",
     "output_type": "stream",
     "text": [
      "Fitness value of the best solution = 1.7139750574673012\n",
      "Index of the best solution : 0\n"
     ]
    }
   ],
   "source": [
    "# Returning the details of the best solution.\n",
    "solution, solution_fitness, solution_idx = ga.best_solution()\n",
    "print(f\"Fitness value of the best solution = {solution_fitness}\")\n",
    "print(f\"Index of the best solution : {solution_idx}\")"
   ],
   "metadata": {
    "collapsed": false,
    "ExecuteTime": {
     "start_time": "2023-04-27T23:16:51.382734Z",
     "end_time": "2023-04-27T23:16:51.411705Z"
    }
   }
  },
  {
   "cell_type": "code",
   "execution_count": 123,
   "outputs": [
    {
     "data": {
      "text/plain": "<All keys matched successfully>"
     },
     "execution_count": 123,
     "metadata": {},
     "output_type": "execute_result"
    }
   ],
   "source": [
    "# Fetch the parameters of the best solution.\n",
    "best_solution_weights = torchga.model_weights_as_dict(\n",
    "    model=model,\n",
    "    weights_vector=solution\n",
    ")\n",
    "model.load_state_dict(best_solution_weights)"
   ],
   "metadata": {
    "collapsed": false,
    "ExecuteTime": {
     "start_time": "2023-04-27T23:20:56.187258Z",
     "end_time": "2023-04-27T23:20:56.195916Z"
    }
   }
  },
  {
   "cell_type": "code",
   "execution_count": 140,
   "outputs": [],
   "source": [
    "# Calculate the predictions of the best solution.\n",
    "def calculate_metrics(x: torch.Tensor, yt: torch.Tensor) -> None:\n",
    "    preds = model(x)\n",
    "    # Calculate the crossentropy loss of the trained model.\n",
    "    loss = loss_fn(preds, yt).detach().numpy()\n",
    "    print(f\"Crossentropy : {loss}\")\n",
    "    # Calculate the classification accuracy for the trained model.\n",
    "    preds = preds.detach().numpy()\n",
    "    yt = yt.detach().numpy()\n",
    "    acc = np.sum(np.argmax(preds, axis=1) == yt) / len(yt)\n",
    "    print(f\"Accuracy : {acc}\")"
   ],
   "metadata": {
    "collapsed": false,
    "ExecuteTime": {
     "start_time": "2023-04-27T23:29:09.912731Z",
     "end_time": "2023-04-27T23:29:09.920499Z"
    }
   }
  },
  {
   "cell_type": "code",
   "execution_count": 145,
   "outputs": [
    {
     "name": "stdout",
     "output_type": "stream",
     "text": [
      "On the training set:\n",
      "Crossentropy : 0.58343905210495\n",
      "Accuracy : 0.9703703703703703\n"
     ]
    }
   ],
   "source": [
    "print(\"On the training set:\")\n",
    "calculate_metrics(X_train, y_train)"
   ],
   "metadata": {
    "collapsed": false,
    "ExecuteTime": {
     "start_time": "2023-04-27T23:29:30.995236Z",
     "end_time": "2023-04-27T23:29:31.004746Z"
    }
   }
  },
  {
   "cell_type": "code",
   "execution_count": 146,
   "outputs": [
    {
     "name": "stdout",
     "output_type": "stream",
     "text": [
      "On the testing set:\n",
      "Crossentropy : 0.5824460983276367\n",
      "Accuracy : 1.0\n"
     ]
    }
   ],
   "source": [
    "print(\"On the testing set:\")\n",
    "calculate_metrics(X_test, y_test)"
   ],
   "metadata": {
    "collapsed": false,
    "ExecuteTime": {
     "start_time": "2023-04-27T23:29:31.804163Z",
     "end_time": "2023-04-27T23:29:31.825525Z"
    }
   }
  }
 ],
 "metadata": {
  "kernelspec": {
   "display_name": "Python 3",
   "language": "python",
   "name": "python3"
  },
  "language_info": {
   "codemirror_mode": {
    "name": "ipython",
    "version": 2
   },
   "file_extension": ".py",
   "mimetype": "text/x-python",
   "name": "python",
   "nbconvert_exporter": "python",
   "pygments_lexer": "ipython2",
   "version": "2.7.6"
  }
 },
 "nbformat": 4,
 "nbformat_minor": 0
}
