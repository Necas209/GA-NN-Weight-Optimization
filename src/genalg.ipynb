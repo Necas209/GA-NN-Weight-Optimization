{
 "cells": [
  {
   "cell_type": "markdown",
   "source": [
    "# Genetic Algorithm for Finding the Optimal Neural Network Weights"
   ],
   "metadata": {
    "collapsed": false
   }
  },
  {
   "cell_type": "markdown",
   "source": [
    "## Imports"
   ],
   "metadata": {
    "collapsed": false
   }
  },
  {
   "cell_type": "code",
   "execution_count": 1,
   "metadata": {
    "collapsed": false,
    "jupyter": {
     "outputs_hidden": false
    },
    "ExecuteTime": {
     "end_time": "2023-05-01T16:22:56.692181100Z",
     "start_time": "2023-05-01T16:22:47.605494200Z"
    }
   },
   "outputs": [],
   "source": [
    "from pathlib import Path\n",
    "\n",
    "import numpy as np\n",
    "import torch\n",
    "import torch.nn as nn\n",
    "from sklearn.datasets import load_iris\n",
    "from sklearn.model_selection import train_test_split\n",
    "from sklearn.preprocessing import StandardScaler"
   ]
  },
  {
   "cell_type": "markdown",
   "source": [
    "## Data preparation"
   ],
   "metadata": {
    "collapsed": false
   }
  },
  {
   "cell_type": "code",
   "execution_count": 2,
   "metadata": {
    "collapsed": false,
    "jupyter": {
     "outputs_hidden": false
    },
    "ExecuteTime": {
     "end_time": "2023-05-01T16:22:56.748982600Z",
     "start_time": "2023-05-01T16:22:56.700428900Z"
    }
   },
   "outputs": [],
   "source": [
    "# Load the iris dataset.\n",
    "iris = load_iris()\n",
    "X: np.ndarray = iris.data\n",
    "y: np.ndarray = iris.target"
   ]
  },
  {
   "cell_type": "code",
   "execution_count": 3,
   "metadata": {
    "collapsed": false,
    "jupyter": {
     "outputs_hidden": false
    },
    "ExecuteTime": {
     "end_time": "2023-05-01T16:22:56.757180700Z",
     "start_time": "2023-05-01T16:22:56.724811700Z"
    }
   },
   "outputs": [],
   "source": [
    "# Split the dataset into training and testing sets.\n",
    "X_train, X_test, y_train, y_test = train_test_split(X, y, test_size=0.1, random_state=42)"
   ]
  },
  {
   "cell_type": "code",
   "execution_count": 4,
   "metadata": {
    "collapsed": false,
    "jupyter": {
     "outputs_hidden": false
    },
    "ExecuteTime": {
     "end_time": "2023-05-01T16:22:56.769555900Z",
     "start_time": "2023-05-01T16:22:56.757180700Z"
    }
   },
   "outputs": [],
   "source": [
    "# Scale the data.\n",
    "scaler = StandardScaler()\n",
    "X_train = scaler.fit_transform(X_train)\n",
    "X_test = scaler.transform(X_test)"
   ]
  },
  {
   "cell_type": "code",
   "execution_count": 5,
   "metadata": {
    "collapsed": false,
    "jupyter": {
     "outputs_hidden": false
    },
    "ExecuteTime": {
     "end_time": "2023-05-01T16:22:56.806377900Z",
     "start_time": "2023-05-01T16:22:56.772826800Z"
    }
   },
   "outputs": [],
   "source": [
    "X_train: torch.Tensor = torch.from_numpy(X_train).float()\n",
    "X_test: torch.Tensor = torch.from_numpy(X_test).float()\n",
    "y_train: torch.Tensor = torch.from_numpy(y_train).long()\n",
    "y_test: torch.Tensor = torch.from_numpy(y_test).long()"
   ]
  },
  {
   "cell_type": "code",
   "execution_count": 10,
   "outputs": [],
   "source": [
    "# Create the 'models' directory.\n",
    "models_path = Path(\"models\")\n",
    "models_path.mkdir(exist_ok=True)"
   ],
   "metadata": {
    "collapsed": false,
    "ExecuteTime": {
     "end_time": "2023-05-01T16:24:03.312420500Z",
     "start_time": "2023-05-01T16:24:03.296135Z"
    }
   }
  },
  {
   "cell_type": "markdown",
   "source": [
    "## Model definition"
   ],
   "metadata": {
    "collapsed": false
   }
  },
  {
   "cell_type": "code",
   "execution_count": 55,
   "outputs": [],
   "source": [
    "# Create the model.\n",
    "iris_model = nn.Sequential(\n",
    "    nn.Linear(4, 10),\n",
    "    nn.ReLU(),\n",
    "    nn.Linear(10, 3),\n",
    "    nn.Softmax(dim=1)\n",
    ")"
   ],
   "metadata": {
    "collapsed": false,
    "ExecuteTime": {
     "end_time": "2023-05-01T16:39:03.374528800Z",
     "start_time": "2023-05-01T16:39:03.363188600Z"
    }
   }
  },
  {
   "cell_type": "code",
   "execution_count": 7,
   "outputs": [],
   "source": [
    "# Define the loss function.\n",
    "criterion = nn.CrossEntropyLoss()"
   ],
   "metadata": {
    "collapsed": false,
    "ExecuteTime": {
     "end_time": "2023-05-01T16:22:56.847721600Z",
     "start_time": "2023-05-01T16:22:56.816962600Z"
    }
   }
  },
  {
   "cell_type": "code",
   "execution_count": 23,
   "outputs": [],
   "source": [
    "# Evaluate the model.\n",
    "def calculate_metrics(x: torch.Tensor, yt: torch.Tensor) -> None:\n",
    "    # Calculate the crossentropy loss of the trained model.\n",
    "    with torch.no_grad():\n",
    "        preds = iris_model(x)\n",
    "        loss = criterion(preds, yt).item()\n",
    "    print(f\"Crossentropy : {loss}\")\n",
    "    # Calculate the classification accuracy for the trained model.\n",
    "    acc = torch.mean((torch.argmax(preds, dim=1) == yt).float()).item()\n",
    "    print(f\"Accuracy : {acc}\")"
   ],
   "metadata": {
    "collapsed": false,
    "ExecuteTime": {
     "end_time": "2023-05-01T16:33:43.895423200Z",
     "start_time": "2023-05-01T16:33:43.880453Z"
    }
   }
  },
  {
   "cell_type": "markdown",
   "source": [
    "## Implementation using our own Genetic Algorithm"
   ],
   "metadata": {
    "collapsed": false
   }
  },
  {
   "cell_type": "code",
   "execution_count": 9,
   "outputs": [],
   "source": [
    "from genalg import GeneticAlgorithm, ModelParams"
   ],
   "metadata": {
    "collapsed": false,
    "ExecuteTime": {
     "end_time": "2023-04-30T13:40:42.749965300Z",
     "start_time": "2023-04-30T13:40:42.516656300Z"
    }
   }
  },
  {
   "cell_type": "code",
   "execution_count": 21,
   "outputs": [],
   "source": [
    "# Move the model and data to the GPU.\n",
    "iris_model = iris_model.cuda()\n",
    "X_train = X_train.cuda()\n",
    "y_train = y_train.cuda()\n",
    "X_test = X_test.cuda()\n",
    "y_test = y_test.cuda()"
   ],
   "metadata": {
    "collapsed": false,
    "ExecuteTime": {
     "end_time": "2023-05-01T16:32:24.196515400Z",
     "start_time": "2023-05-01T16:32:24.178555200Z"
    }
   }
  },
  {
   "cell_type": "code",
   "execution_count": 11,
   "outputs": [],
   "source": [
    "def load_params(model: nn.Module, params: ModelParams) -> None:\n",
    "    model_params = model.state_dict()\n",
    "    model_params['0.weight'] = torch.FloatTensor(params[:40].reshape(10, 4))\n",
    "    model_params['0.bias'] = torch.FloatTensor(params[40:50])\n",
    "    model_params['2.weight'] = torch.FloatTensor(params[50:80].reshape(3, 10))\n",
    "    model_params['2.bias'] = torch.FloatTensor(params[80:])\n",
    "    model.load_state_dict(model_params)"
   ],
   "metadata": {
    "collapsed": false,
    "ExecuteTime": {
     "end_time": "2023-04-30T13:40:42.873777Z",
     "start_time": "2023-04-30T13:40:42.861575100Z"
    }
   }
  },
  {
   "cell_type": "code",
   "execution_count": 12,
   "outputs": [],
   "source": [
    "def on_generation(generation: int, scores: list[float]) -> None:\n",
    "    print(\n",
    "        f\"Generation: {generation:0=3} \"\n",
    "        f\"Best fitness: {np.max(scores):.10f} \"\n",
    "        f\"Average fitness: {np.mean(scores):.10f} \"\n",
    "        f\"Worst fitness: {np.min(scores):.10f}\"\n",
    "    )"
   ],
   "metadata": {
    "collapsed": false,
    "ExecuteTime": {
     "end_time": "2023-04-30T13:40:42.893233800Z",
     "start_time": "2023-04-30T13:40:42.875780800Z"
    }
   }
  },
  {
   "cell_type": "code",
   "execution_count": 13,
   "outputs": [],
   "source": [
    "def fitness_fn(solution: ModelParams) -> float:\n",
    "    load_params(iris_model, solution)\n",
    "    with torch.no_grad():\n",
    "        outputs = iris_model(X_train)\n",
    "        loss: torch.Tensor = criterion(outputs, y_train)\n",
    "        fitness = 1.0 / (loss.detach().item() + 1e-8)\n",
    "    return fitness"
   ],
   "metadata": {
    "collapsed": false,
    "ExecuteTime": {
     "end_time": "2023-04-30T13:40:42.905221900Z",
     "start_time": "2023-04-30T13:40:42.892233300Z"
    }
   }
  },
  {
   "cell_type": "code",
   "execution_count": 39,
   "outputs": [],
   "source": [
    "# Create the GA instance\n",
    "ga = GeneticAlgorithm(\n",
    "    model=iris_model,\n",
    "    population_size=30,\n",
    "    num_generations=600,\n",
    "    neuron_off_rate=1e-4,\n",
    "    mutation_rate=0.05,\n",
    "    elitism=True,\n",
    "    fitness_fn=fitness_fn,\n",
    "    on_generation=on_generation,\n",
    "    on_generation_interval=50,\n",
    ")"
   ],
   "metadata": {
    "collapsed": false,
    "ExecuteTime": {
     "end_time": "2023-04-30T13:44:56.683425800Z",
     "start_time": "2023-04-30T13:44:56.669371800Z"
    }
   }
  },
  {
   "cell_type": "code",
   "execution_count": 40,
   "outputs": [
    {
     "name": "stdout",
     "output_type": "stream",
     "text": [
      "Generation: 000 Best fitness: 1.1910996178 Average fitness: 0.9075365693 Worst fitness: 0.7141730377\n",
      "Generation: 050 Best fitness: 1.1869424708 Average fitness: 1.0946339582 Worst fitness: 1.0085564687\n",
      "Generation: 100 Best fitness: 1.4060704523 Average fitness: 1.3660223027 Worst fitness: 1.3299100653\n",
      "Generation: 150 Best fitness: 1.4639450473 Average fitness: 1.4089416744 Worst fitness: 1.3587771707\n",
      "Generation: 200 Best fitness: 1.4542243131 Average fitness: 1.4344275882 Worst fitness: 1.4161880411\n",
      "Generation: 250 Best fitness: 1.5399362410 Average fitness: 1.5061239353 Worst fitness: 1.4721380811\n",
      "Generation: 300 Best fitness: 1.5927851882 Average fitness: 1.5457220182 Worst fitness: 1.5042679027\n",
      "Generation: 350 Best fitness: 1.6186647513 Average fitness: 1.5902067086 Worst fitness: 1.4920770500\n",
      "Generation: 400 Best fitness: 1.6285815668 Average fitness: 1.6057169204 Worst fitness: 1.5813101976\n",
      "Generation: 450 Best fitness: 1.6580407938 Average fitness: 1.6345811051 Worst fitness: 1.5870997640\n",
      "Generation: 500 Best fitness: 1.6645618788 Average fitness: 1.6487307913 Worst fitness: 1.6273675655\n",
      "Generation: 550 Best fitness: 1.6927489504 Average fitness: 1.6767449802 Worst fitness: 1.6551106097\n",
      "Generation: 599 Best fitness: 1.6971527829 Average fitness: 1.6859206738 Worst fitness: 1.6736460764\n"
     ]
    }
   ],
   "source": [
    "# Run the algorithm\n",
    "ga.run()"
   ],
   "metadata": {
    "collapsed": false,
    "ExecuteTime": {
     "end_time": "2023-04-30T13:45:08.050448Z",
     "start_time": "2023-04-30T13:44:57.418936200Z"
    }
   }
  },
  {
   "cell_type": "code",
   "execution_count": 41,
   "outputs": [
    {
     "data": {
      "text/plain": "<Figure size 640x480 with 1 Axes>",
      "image/png": "[encoded data removed]"
     },
     "metadata": {},
     "output_type": "display_data"
    }
   ],
   "source": [
    "# Plot the fitness curve.\n",
    "ga.plot_fitness()"
   ],
   "metadata": {
    "collapsed": false,
    "ExecuteTime": {
     "end_time": "2023-04-30T13:45:11.123067200Z",
     "start_time": "2023-04-30T13:45:11.035405700Z"
    }
   }
  },
  {
   "cell_type": "code",
   "execution_count": null,
   "outputs": [],
   "source": [
    "# Print GA summary.\n",
    "ga.print_summary()"
   ],
   "metadata": {
    "collapsed": false
   }
  },
  {
   "cell_type": "code",
   "execution_count": null,
   "outputs": [],
   "source": [
    "# Load the weights of the best solution into the model.\n",
    "best_solution = ga.best_solution\n",
    "load_params(iris_model, best_solution)"
   ],
   "metadata": {
    "collapsed": false
   }
  },
  {
   "cell_type": "code",
   "execution_count": 27,
   "outputs": [],
   "source": [
    "# Define the path to save the model weights.\n",
    "weights_path = models_path / \"ga_weights.pth\""
   ],
   "metadata": {
    "collapsed": false,
    "ExecuteTime": {
     "end_time": "2023-05-01T16:37:18.837195300Z",
     "start_time": "2023-05-01T16:37:18.807443700Z"
    }
   }
  },
  {
   "cell_type": "code",
   "execution_count": 28,
   "outputs": [
    {
     "data": {
      "text/plain": "<All keys matched successfully>"
     },
     "execution_count": 28,
     "metadata": {},
     "output_type": "execute_result"
    }
   ],
   "source": [
    "# Load model weights into the model.\n",
    "iris_model.load_state_dict(torch.load(weights_path))"
   ],
   "metadata": {
    "collapsed": false,
    "ExecuteTime": {
     "end_time": "2023-05-01T16:37:20.074015400Z",
     "start_time": "2023-05-01T16:37:20.057701200Z"
    }
   }
  },
  {
   "cell_type": "code",
   "execution_count": 29,
   "outputs": [
    {
     "name": "stdout",
     "output_type": "stream",
     "text": [
      "On the training set:\n",
      "Crossentropy : 0.5931076407432556\n",
      "Accuracy : 0.9629629254341125\n",
      "On the testing set:\n",
      "Crossentropy : 0.5830239057540894\n",
      "Accuracy : 1.0\n"
     ]
    }
   ],
   "source": [
    "# Calculate the metrics of the best solution.\n",
    "print(\"On the training set:\")\n",
    "calculate_metrics(X_train, y_train)\n",
    "print(\"On the testing set:\")\n",
    "calculate_metrics(X_test, y_test)"
   ],
   "metadata": {
    "collapsed": false,
    "ExecuteTime": {
     "end_time": "2023-05-01T16:37:21.461657400Z",
     "start_time": "2023-05-01T16:37:21.441470100Z"
    }
   }
  },
  {
   "cell_type": "code",
   "execution_count": 50,
   "outputs": [],
   "source": [
    "# Save the model weights.\n",
    "torch.save(iris_model.state_dict(), weights_path)"
   ],
   "metadata": {
    "collapsed": false,
    "ExecuteTime": {
     "end_time": "2023-04-30T13:56:38.500634300Z",
     "start_time": "2023-04-30T13:56:38.481286400Z"
    }
   }
  },
  {
   "cell_type": "markdown",
   "source": [
    "## Implementation using PyGAD library"
   ],
   "metadata": {
    "collapsed": false
   }
  },
  {
   "cell_type": "code",
   "execution_count": 30,
   "outputs": [],
   "source": [
    "import pygad\n",
    "import pygad.torchga as torchga"
   ],
   "metadata": {
    "collapsed": false,
    "ExecuteTime": {
     "end_time": "2023-05-01T16:37:31.292920500Z",
     "start_time": "2023-05-01T16:37:30.351810700Z"
    }
   }
  },
  {
   "cell_type": "code",
   "execution_count": 31,
   "outputs": [],
   "source": [
    "# Move the model and data to the CPU.\n",
    "iris_model = iris_model.cpu()\n",
    "X_train = X_train.cpu()\n",
    "y_train = y_train.cpu()\n",
    "X_test = X_test.cpu()\n",
    "y_test = y_test.cpu()"
   ],
   "metadata": {
    "collapsed": false,
    "ExecuteTime": {
     "end_time": "2023-05-01T16:37:34.407817300Z",
     "start_time": "2023-05-01T16:37:34.382671800Z"
    }
   }
  },
  {
   "cell_type": "code",
   "execution_count": 56,
   "metadata": {
    "collapsed": false,
    "jupyter": {
     "outputs_hidden": false
    },
    "ExecuteTime": {
     "end_time": "2023-05-01T16:39:11.340400800Z",
     "start_time": "2023-05-01T16:39:11.329370900Z"
    }
   },
   "outputs": [],
   "source": [
    "# Define the parameters.\n",
    "sol_per_pop = 10\n",
    "num_generations = 100"
   ]
  },
  {
   "cell_type": "code",
   "execution_count": 57,
   "metadata": {
    "collapsed": false,
    "jupyter": {
     "outputs_hidden": false
    },
    "ExecuteTime": {
     "end_time": "2023-05-01T16:39:11.674172900Z",
     "start_time": "2023-05-01T16:39:11.660868Z"
    }
   },
   "outputs": [],
   "source": [
    "# Create an instance of the pygad.torchga.TorchGA class to build the initial population.\n",
    "torch_ga = torchga.TorchGA(\n",
    "    model=iris_model,\n",
    "    num_solutions=sol_per_pop,\n",
    ")"
   ]
  },
  {
   "cell_type": "code",
   "execution_count": 58,
   "metadata": {
    "collapsed": false,
    "jupyter": {
     "outputs_hidden": false
    },
    "ExecuteTime": {
     "end_time": "2023-05-01T16:39:12.009742600Z",
     "start_time": "2023-05-01T16:39:11.992847900Z"
    }
   },
   "outputs": [],
   "source": [
    "# Some parameters are initialized within the constructor.\n",
    "initial_population = torch_ga.population_weights"
   ]
  },
  {
   "cell_type": "code",
   "execution_count": 59,
   "metadata": {
    "collapsed": false,
    "jupyter": {
     "outputs_hidden": false
    },
    "ExecuteTime": {
     "end_time": "2023-05-01T16:39:12.574217100Z",
     "start_time": "2023-05-01T16:39:12.554311700Z"
    }
   },
   "outputs": [],
   "source": [
    "# Define the fitness function for classification.\n",
    "def fitness_func(_ga: pygad.GA, sol: np.ndarray, _sol_idx: int) -> float:\n",
    "    preds = torchga.predict(model=iris_model,\n",
    "                            solution=sol,\n",
    "                            data=X_train)\n",
    "    fitness = 1.0 / (criterion(preds, y_train).detach().numpy() + 1e-8)\n",
    "    return fitness"
   ]
  },
  {
   "cell_type": "code",
   "execution_count": 60,
   "metadata": {
    "collapsed": false,
    "jupyter": {
     "outputs_hidden": false
    },
    "ExecuteTime": {
     "end_time": "2023-05-01T16:39:12.913972100Z",
     "start_time": "2023-05-01T16:39:12.899852300Z"
    }
   },
   "outputs": [],
   "source": [
    "# Define the callback function.\n",
    "# noinspection PyShadowingNames\n",
    "def on_generation(ga: pygad.GA) -> None:\n",
    "    print(f'Gen#{ga.generations_completed:0=2}, Fitness: {ga.best_solution()[1]}')"
   ]
  },
  {
   "cell_type": "code",
   "execution_count": 61,
   "metadata": {
    "collapsed": false,
    "jupyter": {
     "outputs_hidden": false
    },
    "ExecuteTime": {
     "end_time": "2023-05-01T16:39:13.281864500Z",
     "start_time": "2023-05-01T16:39:13.260227300Z"
    }
   },
   "outputs": [],
   "source": [
    "# Create an instance of the GA class inside the ga module.\n",
    "ga = pygad.GA(\n",
    "    num_generations=num_generations,\n",
    "    num_parents_mating=sol_per_pop // 2,\n",
    "    initial_population=initial_population,\n",
    "    fitness_func=fitness_func,\n",
    "    on_generation=on_generation,\n",
    ")"
   ]
  },
  {
   "cell_type": "code",
   "execution_count": 62,
   "metadata": {
    "collapsed": false,
    "jupyter": {
     "outputs_hidden": false
    },
    "ExecuteTime": {
     "end_time": "2023-05-01T16:39:16.481095200Z",
     "start_time": "2023-05-01T16:39:13.936915500Z"
    }
   },
   "outputs": [
    {
     "name": "stdout",
     "output_type": "stream",
     "text": [
      "Gen#01, Fitness: 1.021122908438827\n",
      "Gen#02, Fitness: 1.1075730838433375\n",
      "Gen#03, Fitness: 1.1075730838433375\n",
      "Gen#04, Fitness: 1.1842352415120814\n",
      "Gen#05, Fitness: 1.249055108734468\n",
      "Gen#06, Fitness: 1.3113565029643597\n",
      "Gen#07, Fitness: 1.3194216717108271\n",
      "Gen#08, Fitness: 1.3492426519924894\n",
      "Gen#09, Fitness: 1.3492426519924894\n",
      "Gen#10, Fitness: 1.3492426519924894\n",
      "Gen#11, Fitness: 1.3886057960515175\n",
      "Gen#12, Fitness: 1.3886057960515175\n",
      "Gen#13, Fitness: 1.3953111566159564\n",
      "Gen#14, Fitness: 1.4067320839112836\n",
      "Gen#15, Fitness: 1.4623186717801957\n",
      "Gen#16, Fitness: 1.463034821607316\n",
      "Gen#17, Fitness: 1.463034821607316\n",
      "Gen#18, Fitness: 1.4671656925200995\n",
      "Gen#19, Fitness: 1.4900372304699445\n",
      "Gen#20, Fitness: 1.4900372304699445\n",
      "Gen#21, Fitness: 1.4900372304699445\n",
      "Gen#22, Fitness: 1.526115574498242\n",
      "Gen#23, Fitness: 1.526115574498242\n",
      "Gen#24, Fitness: 1.5421611378431195\n",
      "Gen#25, Fitness: 1.546795255187125\n",
      "Gen#26, Fitness: 1.546795255187125\n",
      "Gen#27, Fitness: 1.590113476289419\n",
      "Gen#28, Fitness: 1.590113476289419\n",
      "Gen#29, Fitness: 1.590113476289419\n",
      "Gen#30, Fitness: 1.5977933965453506\n",
      "Gen#31, Fitness: 1.5977933965453506\n",
      "Gen#32, Fitness: 1.5977933965453506\n",
      "Gen#33, Fitness: 1.5977933965453506\n",
      "Gen#34, Fitness: 1.6450473136475552\n",
      "Gen#35, Fitness: 1.6450473136475552\n",
      "Gen#36, Fitness: 1.6450473136475552\n",
      "Gen#37, Fitness: 1.6450473136475552\n",
      "Gen#38, Fitness: 1.6450473136475552\n",
      "Gen#39, Fitness: 1.6450473136475552\n",
      "Gen#40, Fitness: 1.6450473136475552\n",
      "Gen#41, Fitness: 1.6484759603309316\n",
      "Gen#42, Fitness: 1.6484759603309316\n",
      "Gen#43, Fitness: 1.6484759603309316\n",
      "Gen#44, Fitness: 1.6484759603309316\n",
      "Gen#45, Fitness: 1.6629949205803753\n",
      "Gen#46, Fitness: 1.6629949205803753\n",
      "Gen#47, Fitness: 1.6629949205803753\n",
      "Gen#48, Fitness: 1.6629949205803753\n",
      "Gen#49, Fitness: 1.6629949205803753\n",
      "Gen#50, Fitness: 1.6966524805827408\n",
      "Gen#51, Fitness: 1.6966524805827408\n",
      "Gen#52, Fitness: 1.6966524805827408\n",
      "Gen#53, Fitness: 1.6966524805827408\n",
      "Gen#54, Fitness: 1.6966524805827408\n",
      "Gen#55, Fitness: 1.6966524805827408\n",
      "Gen#56, Fitness: 1.6966524805827408\n",
      "Gen#57, Fitness: 1.6966524805827408\n",
      "Gen#58, Fitness: 1.6966524805827408\n",
      "Gen#59, Fitness: 1.6966524805827408\n",
      "Gen#60, Fitness: 1.6966524805827408\n",
      "Gen#61, Fitness: 1.6966524805827408\n",
      "Gen#62, Fitness: 1.6966524805827408\n",
      "Gen#63, Fitness: 1.6966524805827408\n",
      "Gen#64, Fitness: 1.6966524805827408\n",
      "Gen#65, Fitness: 1.6967672751665306\n",
      "Gen#66, Fitness: 1.6979140139243247\n",
      "Gen#67, Fitness: 1.6979140139243247\n",
      "Gen#68, Fitness: 1.7154592735954868\n",
      "Gen#69, Fitness: 1.7154592735954868\n",
      "Gen#70, Fitness: 1.7154592735954868\n",
      "Gen#71, Fitness: 1.7154592735954868\n",
      "Gen#72, Fitness: 1.7154592735954868\n",
      "Gen#73, Fitness: 1.7154592735954868\n",
      "Gen#74, Fitness: 1.7154592735954868\n",
      "Gen#75, Fitness: 1.7225990664998507\n",
      "Gen#76, Fitness: 1.7225990664998507\n",
      "Gen#77, Fitness: 1.7225990664998507\n",
      "Gen#78, Fitness: 1.7225990664998507\n",
      "Gen#79, Fitness: 1.7225990664998507\n",
      "Gen#80, Fitness: 1.7225990664998507\n",
      "Gen#81, Fitness: 1.7225990664998507\n",
      "Gen#82, Fitness: 1.7225990664998507\n",
      "Gen#83, Fitness: 1.7225990664998507\n",
      "Gen#84, Fitness: 1.7225990664998507\n",
      "Gen#85, Fitness: 1.7246535328627903\n",
      "Gen#86, Fitness: 1.7246535328627903\n",
      "Gen#87, Fitness: 1.7246535328627903\n",
      "Gen#88, Fitness: 1.7246535328627903\n",
      "Gen#89, Fitness: 1.7246535328627903\n",
      "Gen#90, Fitness: 1.7246535328627903\n",
      "Gen#91, Fitness: 1.7246535328627903\n",
      "Gen#92, Fitness: 1.7246535328627903\n",
      "Gen#93, Fitness: 1.7286021097997701\n",
      "Gen#94, Fitness: 1.7313440668538367\n",
      "Gen#95, Fitness: 1.7317029066335912\n",
      "Gen#96, Fitness: 1.7317029066335912\n",
      "Gen#97, Fitness: 1.7317029066335912\n",
      "Gen#98, Fitness: 1.7363141876576647\n",
      "Gen#99, Fitness: 1.7382707560833057\n",
      "Gen#100, Fitness: 1.7382707560833057\n"
     ]
    }
   ],
   "source": [
    "# Run the genetic algorithm.\n",
    "ga.run()"
   ]
  },
  {
   "cell_type": "code",
   "execution_count": 63,
   "metadata": {
    "collapsed": false,
    "jupyter": {
     "outputs_hidden": false
    },
    "ExecuteTime": {
     "end_time": "2023-05-01T16:39:18.269071200Z",
     "start_time": "2023-05-01T16:39:18.127040300Z"
    }
   },
   "outputs": [
    {
     "data": {
      "text/plain": "<Figure size 640x480 with 1 Axes>",
      "image/png": "[encoded data removed]"
     },
     "metadata": {},
     "output_type": "display_data"
    }
   ],
   "source": [
    "# After the generations complete, some plots are shown that summarize\n",
    "# how the outputs/fitness values evolve over generations.\n",
    "_ = ga.plot_fitness(\n",
    "    title=\"PyGAD & PyTorch - Iteration vs. Fitness\",\n",
    "    linewidth=4\n",
    ")"
   ]
  },
  {
   "cell_type": "code",
   "execution_count": 64,
   "metadata": {
    "collapsed": false,
    "jupyter": {
     "outputs_hidden": false
    },
    "ExecuteTime": {
     "end_time": "2023-05-01T16:39:19.656366200Z",
     "start_time": "2023-05-01T16:39:19.592091600Z"
    }
   },
   "outputs": [
    {
     "name": "stdout",
     "output_type": "stream",
     "text": [
      "Fitness value of the best solution = 1.7382707560833057\n",
      "Index of the best solution : 0\n"
     ]
    }
   ],
   "source": [
    "# Returning the details of the best solution.\n",
    "best_solution, best_solution_fitness, best_solution_idx = ga.best_solution()\n",
    "print(f\"Fitness value of the best solution = {best_solution_fitness}\")\n",
    "print(f\"Index of the best solution : {best_solution_idx}\")"
   ]
  },
  {
   "cell_type": "code",
   "execution_count": 65,
   "metadata": {
    "collapsed": false,
    "jupyter": {
     "outputs_hidden": false
    },
    "ExecuteTime": {
     "end_time": "2023-05-01T16:39:21.653915Z",
     "start_time": "2023-05-01T16:39:21.632908100Z"
    }
   },
   "outputs": [
    {
     "data": {
      "text/plain": "<All keys matched successfully>"
     },
     "execution_count": 65,
     "metadata": {},
     "output_type": "execute_result"
    }
   ],
   "source": [
    "# Fetch the parameters of the best solution.\n",
    "best_solution_weights = torchga.model_weights_as_dict(\n",
    "    model=iris_model,\n",
    "    weights_vector=best_solution\n",
    ")\n",
    "iris_model.load_state_dict(best_solution_weights)"
   ]
  },
  {
   "cell_type": "code",
   "execution_count": 66,
   "metadata": {
    "collapsed": false,
    "jupyter": {
     "outputs_hidden": false
    },
    "ExecuteTime": {
     "end_time": "2023-05-01T16:39:23.538971600Z",
     "start_time": "2023-05-01T16:39:23.514941300Z"
    }
   },
   "outputs": [
    {
     "name": "stdout",
     "output_type": "stream",
     "text": [
      "On the training set:\n",
      "Crossentropy : 0.5752843618392944\n",
      "Accuracy : 0.9777777791023254\n",
      "On the testing set:\n",
      "Crossentropy : 0.5660752058029175\n",
      "Accuracy : 1.0\n"
     ]
    }
   ],
   "source": [
    "print(\"On the training set:\")\n",
    "calculate_metrics(X_train, y_train)\n",
    "print(\"On the testing set:\")\n",
    "calculate_metrics(X_test, y_test)"
   ]
  },
  {
   "cell_type": "code",
   "execution_count": 67,
   "outputs": [],
   "source": [
    "# Save the model weights.\n",
    "weights_path = models_path / \"pygad_weights.pth\"\n",
    "torch.save(iris_model.state_dict(), weights_path)"
   ],
   "metadata": {
    "collapsed": false,
    "ExecuteTime": {
     "end_time": "2023-05-01T16:39:24.506935600Z",
     "start_time": "2023-05-01T16:39:24.489886100Z"
    }
   }
  }
 ],
 "metadata": {
  "kernelspec": {
   "display_name": "Python 3 (ipykernel)",
   "language": "python",
   "name": "python3"
  },
  "language_info": {
   "codemirror_mode": {
    "name": "ipython",
    "version": 3
   },
   "file_extension": ".py",
   "mimetype": "text/x-python",
   "name": "python",
   "nbconvert_exporter": "python",
   "pygments_lexer": "ipython3",
   "version": "3.10.11"
  }
 },
 "nbformat": 4,
 "nbformat_minor": 4
}
