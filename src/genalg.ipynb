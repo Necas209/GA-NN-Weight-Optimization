{
 "cells": [
  {
   "cell_type": "markdown",
   "source": [
    "# Genetic Algorithm for Finding the Optimal Neural Network Weights"
   ],
   "metadata": {
    "collapsed": false
   }
  },
  {
   "cell_type": "markdown",
   "source": [
    "## Imports"
   ],
   "metadata": {
    "collapsed": false
   }
  },
  {
   "cell_type": "code",
   "execution_count": 1,
   "metadata": {
    "collapsed": false,
    "jupyter": {
     "outputs_hidden": false
    },
    "ExecuteTime": {
     "end_time": "2023-05-15T13:58:11.863746500Z",
     "start_time": "2023-05-15T13:57:28.928813400Z"
    }
   },
   "outputs": [],
   "source": [
    "from pathlib import Path\n",
    "\n",
    "import numpy as np\n",
    "import torch\n",
    "import torch.nn as nn\n",
    "from sklearn.datasets import load_iris\n",
    "from sklearn.model_selection import train_test_split\n",
    "from sklearn.preprocessing import StandardScaler"
   ]
  },
  {
   "cell_type": "markdown",
   "source": [
    "## Data preparation"
   ],
   "metadata": {
    "collapsed": false
   }
  },
  {
   "cell_type": "code",
   "execution_count": 2,
   "metadata": {
    "collapsed": false,
    "jupyter": {
     "outputs_hidden": false
    },
    "ExecuteTime": {
     "end_time": "2023-05-15T13:58:11.877926500Z",
     "start_time": "2023-05-15T13:58:11.864757900Z"
    }
   },
   "outputs": [],
   "source": [
    "# Load the iris dataset.\n",
    "iris = load_iris()\n",
    "X: np.ndarray = iris.data\n",
    "y: np.ndarray = iris.target"
   ]
  },
  {
   "cell_type": "code",
   "execution_count": 3,
   "metadata": {
    "collapsed": false,
    "jupyter": {
     "outputs_hidden": false
    },
    "ExecuteTime": {
     "end_time": "2023-05-15T13:58:11.901109500Z",
     "start_time": "2023-05-15T13:58:11.879816100Z"
    }
   },
   "outputs": [],
   "source": [
    "# Split the dataset into training and testing sets.\n",
    "X_train, X_test, y_train, y_test = train_test_split(X, y, test_size=0.1, random_state=42)"
   ]
  },
  {
   "cell_type": "code",
   "execution_count": 4,
   "metadata": {
    "collapsed": false,
    "jupyter": {
     "outputs_hidden": false
    },
    "ExecuteTime": {
     "end_time": "2023-05-15T13:58:11.909601900Z",
     "start_time": "2023-05-15T13:58:11.894618900Z"
    }
   },
   "outputs": [],
   "source": [
    "# Scale the data.\n",
    "scaler = StandardScaler()\n",
    "X_train = scaler.fit_transform(X_train)\n",
    "X_test = scaler.transform(X_test)"
   ]
  },
  {
   "cell_type": "code",
   "execution_count": 5,
   "metadata": {
    "collapsed": false,
    "jupyter": {
     "outputs_hidden": false
    },
    "ExecuteTime": {
     "end_time": "2023-05-15T13:58:11.939710700Z",
     "start_time": "2023-05-15T13:58:11.911802300Z"
    }
   },
   "outputs": [],
   "source": [
    "X_train: torch.Tensor = torch.from_numpy(X_train).float()\n",
    "X_test: torch.Tensor = torch.from_numpy(X_test).float()\n",
    "y_train: torch.Tensor = torch.from_numpy(y_train).long()\n",
    "y_test: torch.Tensor = torch.from_numpy(y_test).long()"
   ]
  },
  {
   "cell_type": "code",
   "execution_count": 6,
   "outputs": [],
   "source": [
    "# Create the 'models' directory.\n",
    "models_path = Path(\"models\")\n",
    "models_path.mkdir(exist_ok=True)"
   ],
   "metadata": {
    "collapsed": false,
    "ExecuteTime": {
     "end_time": "2023-05-15T13:58:11.954981500Z",
     "start_time": "2023-05-15T13:58:11.941792Z"
    }
   }
  },
  {
   "cell_type": "markdown",
   "source": [
    "## Model definition"
   ],
   "metadata": {
    "collapsed": false
   }
  },
  {
   "cell_type": "code",
   "execution_count": 31,
   "outputs": [],
   "source": [
    "# Create the model.\n",
    "def create_model() -> nn.Module:\n",
    "    model = nn.Sequential(\n",
    "        nn.Linear(4, 10),\n",
    "        nn.ReLU(),\n",
    "        nn.Linear(10, 3)\n",
    "    )\n",
    "    return model"
   ],
   "metadata": {
    "collapsed": false,
    "ExecuteTime": {
     "end_time": "2023-05-15T14:03:12.347397900Z",
     "start_time": "2023-05-15T14:03:12.337846100Z"
    }
   }
  },
  {
   "cell_type": "code",
   "execution_count": 32,
   "outputs": [],
   "source": [
    "iris_model = create_model()"
   ],
   "metadata": {
    "collapsed": false,
    "ExecuteTime": {
     "end_time": "2023-05-15T14:03:14.256332100Z",
     "start_time": "2023-05-15T14:03:14.236626100Z"
    }
   }
  },
  {
   "cell_type": "code",
   "execution_count": 8,
   "outputs": [],
   "source": [
    "# Define the loss function.\n",
    "criterion = nn.CrossEntropyLoss()"
   ],
   "metadata": {
    "collapsed": false,
    "ExecuteTime": {
     "end_time": "2023-05-15T13:58:11.985720700Z",
     "start_time": "2023-05-15T13:58:11.972677300Z"
    }
   }
  },
  {
   "cell_type": "code",
   "execution_count": 9,
   "outputs": [],
   "source": [
    "# Evaluate the model.\n",
    "def calculate_metrics(x: torch.Tensor, yt: torch.Tensor) -> None:\n",
    "    # Calculate the crossentropy loss of the trained model.\n",
    "    with torch.no_grad():\n",
    "        preds = iris_model(x)\n",
    "        loss = criterion(preds, yt).item()\n",
    "    print(f\"Crossentropy : {loss}\")\n",
    "    # Calculate the classification accuracy for the trained model.\n",
    "    acc = torch.mean((torch.argmax(preds, dim=1) == yt).float()).item()\n",
    "    print(f\"Accuracy : {acc}\")"
   ],
   "metadata": {
    "collapsed": false,
    "ExecuteTime": {
     "end_time": "2023-05-15T13:58:12.010620200Z",
     "start_time": "2023-05-15T13:58:11.987720900Z"
    }
   }
  },
  {
   "cell_type": "markdown",
   "source": [
    "## Implementation using our own Genetic Algorithm"
   ],
   "metadata": {
    "collapsed": false
   }
  },
  {
   "cell_type": "code",
   "execution_count": 10,
   "outputs": [],
   "source": [
    "from genalg import GeneticAlgorithm, ModelParams"
   ],
   "metadata": {
    "collapsed": false,
    "ExecuteTime": {
     "end_time": "2023-05-15T13:58:12.472791Z",
     "start_time": "2023-05-15T13:58:12.004321100Z"
    }
   }
  },
  {
   "cell_type": "code",
   "execution_count": 11,
   "outputs": [],
   "source": [
    "# Move the model and data to the GPU.\n",
    "iris_model = iris_model.cuda()\n",
    "X_train = X_train.cuda()\n",
    "y_train = y_train.cuda()\n",
    "X_test = X_test.cuda()\n",
    "y_test = y_test.cuda()"
   ],
   "metadata": {
    "collapsed": false,
    "ExecuteTime": {
     "end_time": "2023-05-15T13:58:12.660272Z",
     "start_time": "2023-05-15T13:58:12.475038800Z"
    }
   }
  },
  {
   "cell_type": "code",
   "execution_count": 12,
   "outputs": [],
   "source": [
    "def load_params(model: nn.Module, params: ModelParams) -> None:\n",
    "    model_params = model.state_dict()\n",
    "    model_params['0.weight'] = torch.FloatTensor(params[:40].reshape(10, 4))\n",
    "    model_params['0.bias'] = torch.FloatTensor(params[40:50])\n",
    "    model_params['2.weight'] = torch.FloatTensor(params[50:80].reshape(3, 10))\n",
    "    model_params['2.bias'] = torch.FloatTensor(params[80:])\n",
    "    model.load_state_dict(model_params)"
   ],
   "metadata": {
    "collapsed": false,
    "ExecuteTime": {
     "end_time": "2023-05-15T13:58:12.676509400Z",
     "start_time": "2023-05-15T13:58:12.664799700Z"
    }
   }
  },
  {
   "cell_type": "code",
   "execution_count": 13,
   "outputs": [],
   "source": [
    "def on_generation(generation: int, scores: list[float]) -> None:\n",
    "    print(\n",
    "        f\"Generation: {generation:0=3} \"\n",
    "        f\"Best fitness: {np.max(scores):.10f} \"\n",
    "        f\"Average fitness: {np.mean(scores):.10f} \"\n",
    "        f\"Worst fitness: {np.min(scores):.10f}\"\n",
    "    )"
   ],
   "metadata": {
    "collapsed": false,
    "ExecuteTime": {
     "end_time": "2023-05-15T13:58:12.706381900Z",
     "start_time": "2023-05-15T13:58:12.678997600Z"
    }
   }
  },
  {
   "cell_type": "code",
   "execution_count": 14,
   "outputs": [],
   "source": [
    "def fitness_fn(solution: ModelParams) -> float:\n",
    "    load_params(iris_model, solution)\n",
    "    with torch.no_grad():\n",
    "        outputs = iris_model(X_train)\n",
    "        loss: torch.Tensor = criterion(outputs, y_train)\n",
    "        fitness = 1.0 / (loss.detach().item() + 1e-8)\n",
    "    return fitness"
   ],
   "metadata": {
    "collapsed": false,
    "ExecuteTime": {
     "end_time": "2023-05-15T13:58:12.711339100Z",
     "start_time": "2023-05-15T13:58:12.696356800Z"
    }
   }
  },
  {
   "cell_type": "code",
   "execution_count": 15,
   "outputs": [],
   "source": [
    "# Create the GA instance\n",
    "ga = GeneticAlgorithm(\n",
    "    model=iris_model,\n",
    "    population_size=30,\n",
    "    num_generations=600,\n",
    "    neuron_off_rate=1e-4,\n",
    "    mutation_rate=0.05,\n",
    "    elitism=True,\n",
    "    fitness_fn=fitness_fn,\n",
    "    on_generation=on_generation,\n",
    "    on_generation_interval=50,\n",
    ")"
   ],
   "metadata": {
    "collapsed": false,
    "ExecuteTime": {
     "end_time": "2023-05-15T13:58:12.724511100Z",
     "start_time": "2023-05-15T13:58:12.710095800Z"
    }
   }
  },
  {
   "cell_type": "code",
   "execution_count": 16,
   "outputs": [
    {
     "name": "stdout",
     "output_type": "stream",
     "text": [
      "Generation: 000 Best fitness: 1.5433719701 Average fitness: 0.7456111161 Worst fitness: 0.3869804614\n",
      "Generation: 050 Best fitness: 3.2446750755 Average fitness: 2.8953651866 Worst fitness: 2.5158817894\n",
      "Generation: 100 Best fitness: 4.6345184663 Average fitness: 4.1108275911 Worst fitness: 3.6450487630\n",
      "Generation: 150 Best fitness: 6.5672342767 Average fitness: 5.9685807182 Worst fitness: 5.3553919008\n",
      "Generation: 200 Best fitness: 8.3287108567 Average fitness: 7.0848136781 Worst fitness: 3.4031687845\n",
      "Generation: 250 Best fitness: 12.6944537912 Average fitness: 11.0748490952 Worst fitness: 9.8534413135\n",
      "Generation: 300 Best fitness: 15.1424719381 Average fitness: 12.3759145992 Worst fitness: 9.4984964174\n",
      "Generation: 350 Best fitness: 17.7112536249 Average fitness: 15.5143250450 Worst fitness: 10.0451293478\n",
      "Generation: 400 Best fitness: 20.0449864118 Average fitness: 18.0141691243 Worst fitness: 13.2955562995\n",
      "Generation: 450 Best fitness: 20.8989814569 Average fitness: 18.3574158359 Worst fitness: 14.4692224703\n",
      "Generation: 500 Best fitness: 22.5146651509 Average fitness: 20.4132154353 Worst fitness: 16.1544025131\n",
      "Generation: 550 Best fitness: 23.0057185536 Average fitness: 20.6927268084 Worst fitness: 16.8188145160\n",
      "Generation: 599 Best fitness: 24.0492927083 Average fitness: 22.3070804665 Worst fitness: 17.9997238495\n"
     ]
    }
   ],
   "source": [
    "# Run the algorithm\n",
    "ga.run()"
   ],
   "metadata": {
    "collapsed": false,
    "ExecuteTime": {
     "end_time": "2023-05-15T13:58:43.799117900Z",
     "start_time": "2023-05-15T13:58:20.234392400Z"
    }
   }
  },
  {
   "cell_type": "code",
   "execution_count": 17,
   "outputs": [
    {
     "data": {
      "text/plain": "<Figure size 640x480 with 1 Axes>",
      "image/png": "[encoded data removed]"
     },
     "metadata": {},
     "output_type": "display_data"
    }
   ],
   "source": [
    "# Plot the fitness curve.\n",
    "ga.plot_fitness()"
   ],
   "metadata": {
    "collapsed": false,
    "ExecuteTime": {
     "end_time": "2023-05-15T13:58:54.948567500Z",
     "start_time": "2023-05-15T13:58:48.474807400Z"
    }
   }
  },
  {
   "cell_type": "code",
   "execution_count": 18,
   "outputs": [
    {
     "name": "stdout",
     "output_type": "stream",
     "text": [
      "Best solution fitness: 24.1857370245993\n",
      "Best solution: [ 0.18715172  0.15843318 -1.05434587 -1.30217583  0.26030023 -0.71766392\n",
      "  2.69708382  1.3531205   0.08579807  0.18079343  0.25286524 -0.05260483\n",
      "  0.31478894 -0.87733846  0.48281432 -0.50686909 -0.39182396 -0.57261652\n",
      "  1.17258718  0.01352583 -0.98486466  1.39464695 -0.66739439  0.94024504\n",
      "  0.71045271  1.16046207  0.80569554 -1.10788079 -0.78427624  0.23453702\n",
      " -1.57879494 -0.92889878  0.5513221   0.11980191  0.10801034 -0.50687703\n",
      "  0.14014693  0.29700998 -0.85096398 -0.75774799  1.9433681  -0.0402826\n",
      " -0.75891708  1.06899817 -0.02800371  0.17027197 -0.70863922 -0.43104126\n",
      "  1.27716565  1.81859791  2.37010683 -1.79990589 -1.03808332 -1.29238132\n",
      " -1.77009436  0.5101736   0.01736589  1.33964889  0.13270038 -0.01749015\n",
      "  0.54685065 -1.06010791  0.30295317  1.00407869 -0.58897297 -0.34617195\n",
      " -0.61965038 -1.82661163  1.40953616  1.72751561 -0.89229886  2.01358346\n",
      "  0.39942932 -1.43569824  0.40446863 -1.64048457  0.18089689  0.50206251\n",
      "  0.13112253 -2.157957   -1.52290409  1.44368937  0.88815804]\n",
      "Model parameters: <function compute_num_params at 0x0000015F8B5AB250>\n"
     ]
    }
   ],
   "source": [
    "# Print GA summary.\n",
    "ga.print_summary()"
   ],
   "metadata": {
    "collapsed": false,
    "ExecuteTime": {
     "end_time": "2023-05-15T13:58:57.548168300Z",
     "start_time": "2023-05-15T13:58:57.537507500Z"
    }
   }
  },
  {
   "cell_type": "code",
   "execution_count": 19,
   "outputs": [],
   "source": [
    "# Load the weights of the best solution into the model.\n",
    "best_solution = ga.best_solution\n",
    "load_params(iris_model, best_solution)"
   ],
   "metadata": {
    "collapsed": false,
    "ExecuteTime": {
     "end_time": "2023-05-15T13:59:17.664676900Z",
     "start_time": "2023-05-15T13:59:17.652920500Z"
    }
   }
  },
  {
   "cell_type": "code",
   "execution_count": 44,
   "outputs": [],
   "source": [
    "# Define the path to save the model weights.\n",
    "weights_path = models_path / \"ga_weights.pth\""
   ],
   "metadata": {
    "collapsed": false,
    "ExecuteTime": {
     "end_time": "2023-05-15T14:05:34.450672500Z",
     "start_time": "2023-05-15T14:05:34.439321700Z"
    }
   }
  },
  {
   "cell_type": "code",
   "execution_count": 45,
   "outputs": [
    {
     "data": {
      "text/plain": "<All keys matched successfully>"
     },
     "execution_count": 45,
     "metadata": {},
     "output_type": "execute_result"
    }
   ],
   "source": [
    "# Load model weights into the model.\n",
    "iris_model.load_state_dict(torch.load(weights_path))"
   ],
   "metadata": {
    "collapsed": false,
    "ExecuteTime": {
     "end_time": "2023-05-15T14:05:35.463439Z",
     "start_time": "2023-05-15T14:05:35.436432800Z"
    }
   }
  },
  {
   "cell_type": "code",
   "execution_count": 46,
   "outputs": [
    {
     "name": "stdout",
     "output_type": "stream",
     "text": [
      "On the training set:\n",
      "Crossentropy : 0.04134668409824371\n",
      "Accuracy : 0.9851852059364319\n",
      "On the testing set:\n",
      "Crossentropy : 0.011164525523781776\n",
      "Accuracy : 1.0\n"
     ]
    }
   ],
   "source": [
    "# Calculate the metrics of the best solution.\n",
    "print(\"On the training set:\")\n",
    "calculate_metrics(X_train, y_train)\n",
    "print(\"On the testing set:\")\n",
    "calculate_metrics(X_test, y_test)"
   ],
   "metadata": {
    "collapsed": false,
    "ExecuteTime": {
     "end_time": "2023-05-15T14:05:36.337757100Z",
     "start_time": "2023-05-15T14:05:36.316716700Z"
    }
   }
  },
  {
   "cell_type": "code",
   "execution_count": 22,
   "outputs": [],
   "source": [
    "# Save the model weights.\n",
    "torch.save(iris_model.state_dict(), weights_path)"
   ],
   "metadata": {
    "collapsed": false,
    "ExecuteTime": {
     "end_time": "2023-05-15T14:01:24.547085100Z",
     "start_time": "2023-05-15T14:01:24.521528100Z"
    }
   }
  },
  {
   "cell_type": "markdown",
   "source": [
    "## Implementation using PyGAD library"
   ],
   "metadata": {
    "collapsed": false
   }
  },
  {
   "cell_type": "code",
   "execution_count": 23,
   "outputs": [],
   "source": [
    "import pygad\n",
    "import pygad.torchga as torchga"
   ],
   "metadata": {
    "collapsed": false,
    "ExecuteTime": {
     "end_time": "2023-05-15T14:01:29.946389Z",
     "start_time": "2023-05-15T14:01:29.911222700Z"
    }
   }
  },
  {
   "cell_type": "code",
   "execution_count": 24,
   "outputs": [],
   "source": [
    "# Move the model and data to the CPU.\n",
    "iris_model = iris_model.cpu()\n",
    "X_train = X_train.cpu()\n",
    "y_train = y_train.cpu()\n",
    "X_test = X_test.cpu()\n",
    "y_test = y_test.cpu()"
   ],
   "metadata": {
    "collapsed": false,
    "ExecuteTime": {
     "end_time": "2023-05-15T14:01:31.968990500Z",
     "start_time": "2023-05-15T14:01:31.947351100Z"
    }
   }
  },
  {
   "cell_type": "code",
   "execution_count": 27,
   "metadata": {
    "collapsed": false,
    "jupyter": {
     "outputs_hidden": false
    },
    "ExecuteTime": {
     "end_time": "2023-05-15T14:01:45.681137100Z",
     "start_time": "2023-05-15T14:01:45.676134500Z"
    }
   },
   "outputs": [],
   "source": [
    "# Define the parameters.\n",
    "sol_per_pop = 10\n",
    "num_generations = 200"
   ]
  },
  {
   "cell_type": "code",
   "execution_count": 33,
   "metadata": {
    "collapsed": false,
    "jupyter": {
     "outputs_hidden": false
    },
    "ExecuteTime": {
     "end_time": "2023-05-15T14:03:22.446790Z",
     "start_time": "2023-05-15T14:03:22.440197900Z"
    }
   },
   "outputs": [],
   "source": [
    "# Create an instance of the pygad.torchga.TorchGA class to build the initial population.\n",
    "torch_ga = torchga.TorchGA(\n",
    "    model=iris_model,\n",
    "    num_solutions=sol_per_pop,\n",
    ")"
   ]
  },
  {
   "cell_type": "code",
   "execution_count": 34,
   "metadata": {
    "collapsed": false,
    "jupyter": {
     "outputs_hidden": false
    },
    "ExecuteTime": {
     "end_time": "2023-05-15T14:03:23.911539Z",
     "start_time": "2023-05-15T14:03:23.891964800Z"
    }
   },
   "outputs": [],
   "source": [
    "# Some parameters are initialized within the constructor.\n",
    "initial_population = torch_ga.population_weights"
   ]
  },
  {
   "cell_type": "code",
   "execution_count": 35,
   "metadata": {
    "collapsed": false,
    "jupyter": {
     "outputs_hidden": false
    },
    "ExecuteTime": {
     "end_time": "2023-05-15T14:03:25.001203700Z",
     "start_time": "2023-05-15T14:03:24.989316600Z"
    }
   },
   "outputs": [],
   "source": [
    "# Define the fitness function for classification.\n",
    "def fitness_func(_ga: pygad.GA, sol: np.ndarray, _sol_idx: int) -> float:\n",
    "    preds = torchga.predict(model=iris_model,\n",
    "                            solution=sol,\n",
    "                            data=X_train)\n",
    "    fitness = 1.0 / (criterion(preds, y_train).detach().numpy() + 1e-8)\n",
    "    return fitness"
   ]
  },
  {
   "cell_type": "code",
   "execution_count": 36,
   "metadata": {
    "collapsed": false,
    "jupyter": {
     "outputs_hidden": false
    },
    "ExecuteTime": {
     "end_time": "2023-05-15T14:03:25.887707600Z",
     "start_time": "2023-05-15T14:03:25.856838500Z"
    }
   },
   "outputs": [],
   "source": [
    "# Define the callback function.\n",
    "# noinspection PyShadowingNames\n",
    "def on_generation(ga: pygad.GA) -> None:\n",
    "    print(f'Gen#{ga.generations_completed:0=2}, Fitness: {ga.best_solution()[1]}')"
   ]
  },
  {
   "cell_type": "code",
   "execution_count": 37,
   "metadata": {
    "collapsed": false,
    "jupyter": {
     "outputs_hidden": false
    },
    "ExecuteTime": {
     "end_time": "2023-05-15T14:03:27.347624600Z",
     "start_time": "2023-05-15T14:03:27.339614300Z"
    }
   },
   "outputs": [],
   "source": [
    "# Create an instance of the GA class inside the ga module.\n",
    "ga = pygad.GA(\n",
    "    num_generations=num_generations,\n",
    "    num_parents_mating=sol_per_pop // 2,\n",
    "    initial_population=initial_population,\n",
    "    fitness_func=fitness_func,\n",
    "    on_generation=on_generation,\n",
    ")"
   ]
  },
  {
   "cell_type": "code",
   "execution_count": 38,
   "metadata": {
    "collapsed": false,
    "jupyter": {
     "outputs_hidden": false
    },
    "ExecuteTime": {
     "end_time": "2023-05-15T14:03:32.191961100Z",
     "start_time": "2023-05-15T14:03:29.191404400Z"
    }
   },
   "outputs": [
    {
     "name": "stdout",
     "output_type": "stream",
     "text": [
      "Gen#01, Fitness: 1.1462431390911512\n",
      "Gen#02, Fitness: 1.3782244462485254\n",
      "Gen#03, Fitness: 1.6434267082233411\n",
      "Gen#04, Fitness: 2.0910567869953676\n",
      "Gen#05, Fitness: 2.3221536955337085\n",
      "Gen#06, Fitness: 2.4399529919353755\n",
      "Gen#07, Fitness: 2.819310360374253\n",
      "Gen#08, Fitness: 3.3773839235950436\n",
      "Gen#09, Fitness: 3.3773839235950436\n",
      "Gen#10, Fitness: 3.93229732217669\n",
      "Gen#11, Fitness: 4.541282484569421\n",
      "Gen#12, Fitness: 4.541282484569421\n",
      "Gen#13, Fitness: 5.766837921426559\n",
      "Gen#14, Fitness: 5.766837921426559\n",
      "Gen#15, Fitness: 5.766837921426559\n",
      "Gen#16, Fitness: 5.766837921426559\n",
      "Gen#17, Fitness: 5.766837921426559\n",
      "Gen#18, Fitness: 5.766837921426559\n",
      "Gen#19, Fitness: 5.766837921426559\n",
      "Gen#20, Fitness: 5.766837921426559\n",
      "Gen#21, Fitness: 5.766837921426559\n",
      "Gen#22, Fitness: 5.766837921426559\n",
      "Gen#23, Fitness: 5.766837921426559\n",
      "Gen#24, Fitness: 5.766837921426559\n",
      "Gen#25, Fitness: 5.766837921426559\n",
      "Gen#26, Fitness: 5.78911728522874\n",
      "Gen#27, Fitness: 6.032727220315084\n",
      "Gen#28, Fitness: 6.032727220315084\n",
      "Gen#29, Fitness: 9.215140223058535\n",
      "Gen#30, Fitness: 9.215140223058535\n",
      "Gen#31, Fitness: 9.215140223058535\n",
      "Gen#32, Fitness: 9.215140223058535\n",
      "Gen#33, Fitness: 9.215140223058535\n",
      "Gen#34, Fitness: 11.168665112053148\n",
      "Gen#35, Fitness: 11.168665112053148\n",
      "Gen#36, Fitness: 11.168665112053148\n",
      "Gen#37, Fitness: 11.168665112053148\n",
      "Gen#38, Fitness: 11.168665112053148\n",
      "Gen#39, Fitness: 11.168665112053148\n",
      "Gen#40, Fitness: 11.168665112053148\n",
      "Gen#41, Fitness: 11.168665112053148\n",
      "Gen#42, Fitness: 11.175192232560438\n",
      "Gen#43, Fitness: 11.175192232560438\n",
      "Gen#44, Fitness: 11.175192232560438\n",
      "Gen#45, Fitness: 11.175192232560438\n",
      "Gen#46, Fitness: 11.175192232560438\n",
      "Gen#47, Fitness: 11.175192232560438\n",
      "Gen#48, Fitness: 13.672213095545589\n",
      "Gen#49, Fitness: 13.672213095545589\n",
      "Gen#50, Fitness: 13.672213095545589\n",
      "Gen#51, Fitness: 13.672213095545589\n",
      "Gen#52, Fitness: 13.672213095545589\n",
      "Gen#53, Fitness: 13.672213095545589\n",
      "Gen#54, Fitness: 13.672213095545589\n",
      "Gen#55, Fitness: 13.672213095545589\n",
      "Gen#56, Fitness: 13.703587988435325\n",
      "Gen#57, Fitness: 13.703587988435325\n",
      "Gen#58, Fitness: 14.816300252329416\n",
      "Gen#59, Fitness: 14.899659040648075\n",
      "Gen#60, Fitness: 16.212081400789405\n",
      "Gen#61, Fitness: 16.212081400789405\n",
      "Gen#62, Fitness: 16.212081400789405\n",
      "Gen#63, Fitness: 16.212081400789405\n",
      "Gen#64, Fitness: 16.212081400789405\n",
      "Gen#65, Fitness: 16.212081400789405\n",
      "Gen#66, Fitness: 16.212081400789405\n",
      "Gen#67, Fitness: 16.235859981955123\n",
      "Gen#68, Fitness: 16.235859981955123\n",
      "Gen#69, Fitness: 18.987324310400773\n",
      "Gen#70, Fitness: 18.987324310400773\n",
      "Gen#71, Fitness: 18.987324310400773\n",
      "Gen#72, Fitness: 18.987324310400773\n",
      "Gen#73, Fitness: 18.987324310400773\n",
      "Gen#74, Fitness: 18.987324310400773\n",
      "Gen#75, Fitness: 18.987324310400773\n",
      "Gen#76, Fitness: 18.987324310400773\n",
      "Gen#77, Fitness: 18.987324310400773\n",
      "Gen#78, Fitness: 18.987324310400773\n",
      "Gen#79, Fitness: 18.987324310400773\n",
      "Gen#80, Fitness: 19.00004062790917\n",
      "Gen#81, Fitness: 19.41068879512681\n",
      "Gen#82, Fitness: 19.41068879512681\n",
      "Gen#83, Fitness: 19.41068879512681\n",
      "Gen#84, Fitness: 19.41068879512681\n",
      "Gen#85, Fitness: 19.41068879512681\n",
      "Gen#86, Fitness: 19.41068879512681\n",
      "Gen#87, Fitness: 19.41068879512681\n",
      "Gen#88, Fitness: 19.41068879512681\n",
      "Gen#89, Fitness: 19.41068879512681\n",
      "Gen#90, Fitness: 21.71994926228301\n",
      "Gen#91, Fitness: 21.71994926228301\n",
      "Gen#92, Fitness: 21.71994926228301\n",
      "Gen#93, Fitness: 21.874892058304525\n",
      "Gen#94, Fitness: 21.874892058304525\n",
      "Gen#95, Fitness: 21.874892058304525\n",
      "Gen#96, Fitness: 21.874892058304525\n",
      "Gen#97, Fitness: 21.874892058304525\n",
      "Gen#98, Fitness: 21.874892058304525\n",
      "Gen#99, Fitness: 21.874892058304525\n",
      "Gen#100, Fitness: 21.874892058304525\n",
      "Gen#101, Fitness: 21.874892058304525\n",
      "Gen#102, Fitness: 21.874892058304525\n",
      "Gen#103, Fitness: 21.874892058304525\n",
      "Gen#104, Fitness: 21.874892058304525\n",
      "Gen#105, Fitness: 21.874892058304525\n",
      "Gen#106, Fitness: 21.874892058304525\n",
      "Gen#107, Fitness: 21.874892058304525\n",
      "Gen#108, Fitness: 21.874892058304525\n",
      "Gen#109, Fitness: 21.874892058304525\n",
      "Gen#110, Fitness: 22.411136685947085\n",
      "Gen#111, Fitness: 22.411136685947085\n",
      "Gen#112, Fitness: 22.411136685947085\n",
      "Gen#113, Fitness: 22.411136685947085\n",
      "Gen#114, Fitness: 24.832930761669992\n",
      "Gen#115, Fitness: 24.832930761669992\n",
      "Gen#116, Fitness: 24.832930761669992\n",
      "Gen#117, Fitness: 24.832930761669992\n",
      "Gen#118, Fitness: 24.832930761669992\n",
      "Gen#119, Fitness: 24.832930761669992\n",
      "Gen#120, Fitness: 24.832930761669992\n",
      "Gen#121, Fitness: 24.832930761669992\n",
      "Gen#122, Fitness: 24.832930761669992\n",
      "Gen#123, Fitness: 24.832930761669992\n",
      "Gen#124, Fitness: 24.832930761669992\n",
      "Gen#125, Fitness: 24.832930761669992\n",
      "Gen#126, Fitness: 25.61777677821853\n",
      "Gen#127, Fitness: 25.61777677821853\n",
      "Gen#128, Fitness: 25.61777677821853\n",
      "Gen#129, Fitness: 25.61777677821853\n",
      "Gen#130, Fitness: 25.61777677821853\n",
      "Gen#131, Fitness: 25.61777677821853\n",
      "Gen#132, Fitness: 25.61777677821853\n",
      "Gen#133, Fitness: 25.61777677821853\n",
      "Gen#134, Fitness: 25.61777677821853\n",
      "Gen#135, Fitness: 25.61777677821853\n",
      "Gen#136, Fitness: 25.61777677821853\n",
      "Gen#137, Fitness: 25.61777677821853\n",
      "Gen#138, Fitness: 25.61777677821853\n",
      "Gen#139, Fitness: 25.61777677821853\n",
      "Gen#140, Fitness: 25.61777677821853\n",
      "Gen#141, Fitness: 25.61777677821853\n",
      "Gen#142, Fitness: 25.61777677821853\n",
      "Gen#143, Fitness: 25.61777677821853\n",
      "Gen#144, Fitness: 25.61777677821853\n",
      "Gen#145, Fitness: 25.61777677821853\n",
      "Gen#146, Fitness: 25.61777677821853\n",
      "Gen#147, Fitness: 25.61777677821853\n",
      "Gen#148, Fitness: 25.61777677821853\n",
      "Gen#149, Fitness: 25.61777677821853\n",
      "Gen#150, Fitness: 25.61777677821853\n",
      "Gen#151, Fitness: 25.61777677821853\n",
      "Gen#152, Fitness: 25.61777677821853\n",
      "Gen#153, Fitness: 25.61777677821853\n",
      "Gen#154, Fitness: 25.61777677821853\n",
      "Gen#155, Fitness: 25.61777677821853\n",
      "Gen#156, Fitness: 25.61777677821853\n",
      "Gen#157, Fitness: 25.61777677821853\n",
      "Gen#158, Fitness: 25.61777677821853\n",
      "Gen#159, Fitness: 25.61777677821853\n",
      "Gen#160, Fitness: 25.61777677821853\n",
      "Gen#161, Fitness: 25.61777677821853\n",
      "Gen#162, Fitness: 25.61777677821853\n",
      "Gen#163, Fitness: 25.61777677821853\n",
      "Gen#164, Fitness: 25.61777677821853\n",
      "Gen#165, Fitness: 25.61777677821853\n",
      "Gen#166, Fitness: 25.61777677821853\n",
      "Gen#167, Fitness: 25.61777677821853\n",
      "Gen#168, Fitness: 25.61777677821853\n",
      "Gen#169, Fitness: 25.61777677821853\n",
      "Gen#170, Fitness: 25.61777677821853\n",
      "Gen#171, Fitness: 25.61777677821853\n",
      "Gen#172, Fitness: 25.61777677821853\n",
      "Gen#173, Fitness: 25.61777677821853\n",
      "Gen#174, Fitness: 25.61777677821853\n",
      "Gen#175, Fitness: 25.61777677821853\n",
      "Gen#176, Fitness: 25.61777677821853\n",
      "Gen#177, Fitness: 25.61777677821853\n",
      "Gen#178, Fitness: 25.61777677821853\n",
      "Gen#179, Fitness: 25.61777677821853\n",
      "Gen#180, Fitness: 25.61777677821853\n",
      "Gen#181, Fitness: 25.61777677821853\n",
      "Gen#182, Fitness: 25.61777677821853\n",
      "Gen#183, Fitness: 26.87747657480332\n",
      "Gen#184, Fitness: 26.87747657480332\n",
      "Gen#185, Fitness: 26.87747657480332\n",
      "Gen#186, Fitness: 26.87747657480332\n",
      "Gen#187, Fitness: 26.87747657480332\n",
      "Gen#188, Fitness: 26.87747657480332\n",
      "Gen#189, Fitness: 26.87747657480332\n",
      "Gen#190, Fitness: 26.87747657480332\n",
      "Gen#191, Fitness: 26.87747657480332\n",
      "Gen#192, Fitness: 26.87747657480332\n",
      "Gen#193, Fitness: 26.87747657480332\n",
      "Gen#194, Fitness: 26.87747657480332\n",
      "Gen#195, Fitness: 26.87747657480332\n",
      "Gen#196, Fitness: 26.87747657480332\n",
      "Gen#197, Fitness: 26.87747657480332\n",
      "Gen#198, Fitness: 26.87747657480332\n",
      "Gen#199, Fitness: 26.87747657480332\n",
      "Gen#200, Fitness: 26.87747657480332\n"
     ]
    }
   ],
   "source": [
    "# Run the genetic algorithm.\n",
    "ga.run()"
   ]
  },
  {
   "cell_type": "code",
   "execution_count": 39,
   "metadata": {
    "collapsed": false,
    "jupyter": {
     "outputs_hidden": false
    },
    "ExecuteTime": {
     "end_time": "2023-05-15T14:03:37.655502200Z",
     "start_time": "2023-05-15T14:03:37.515795500Z"
    }
   },
   "outputs": [
    {
     "data": {
      "text/plain": "<Figure size 640x480 with 1 Axes>",
      "image/png": "[encoded data removed]"
     },
     "metadata": {},
     "output_type": "display_data"
    }
   ],
   "source": [
    "# After the generations complete, some plots are shown that summarize\n",
    "# how the outputs/fitness values evolve over generations.\n",
    "_ = ga.plot_fitness(\n",
    "    title=\"PyGAD & PyTorch - Iteration vs. Fitness\",\n",
    "    linewidth=4\n",
    ")"
   ]
  },
  {
   "cell_type": "code",
   "execution_count": 40,
   "metadata": {
    "collapsed": false,
    "jupyter": {
     "outputs_hidden": false
    },
    "ExecuteTime": {
     "end_time": "2023-05-15T14:03:40.706865600Z",
     "start_time": "2023-05-15T14:03:40.688813700Z"
    }
   },
   "outputs": [
    {
     "name": "stdout",
     "output_type": "stream",
     "text": [
      "Fitness value of the best solution = 26.87747657480332\n",
      "Index of the best solution : 0\n"
     ]
    }
   ],
   "source": [
    "# Returning the details of the best solution.\n",
    "best_solution, best_solution_fitness, best_solution_idx = ga.best_solution()\n",
    "print(f\"Fitness value of the best solution = {best_solution_fitness}\")\n",
    "print(f\"Index of the best solution : {best_solution_idx}\")"
   ]
  },
  {
   "cell_type": "code",
   "execution_count": 41,
   "metadata": {
    "collapsed": false,
    "jupyter": {
     "outputs_hidden": false
    },
    "ExecuteTime": {
     "end_time": "2023-05-15T14:03:42.095403100Z",
     "start_time": "2023-05-15T14:03:42.081739700Z"
    }
   },
   "outputs": [
    {
     "data": {
      "text/plain": "<All keys matched successfully>"
     },
     "execution_count": 41,
     "metadata": {},
     "output_type": "execute_result"
    }
   ],
   "source": [
    "# Fetch the parameters of the best solution.\n",
    "best_solution_weights = torchga.model_weights_as_dict(\n",
    "    model=iris_model,\n",
    "    weights_vector=best_solution\n",
    ")\n",
    "iris_model.load_state_dict(best_solution_weights)"
   ]
  },
  {
   "cell_type": "code",
   "execution_count": 42,
   "metadata": {
    "collapsed": false,
    "jupyter": {
     "outputs_hidden": false
    },
    "ExecuteTime": {
     "end_time": "2023-05-15T14:03:42.878599700Z",
     "start_time": "2023-05-15T14:03:42.864473200Z"
    }
   },
   "outputs": [
    {
     "name": "stdout",
     "output_type": "stream",
     "text": [
      "On the training set:\n",
      "Crossentropy : 0.03720586374402046\n",
      "Accuracy : 0.9851852059364319\n",
      "On the testing set:\n",
      "Crossentropy : 0.012011809274554253\n",
      "Accuracy : 1.0\n"
     ]
    }
   ],
   "source": [
    "print(\"On the training set:\")\n",
    "calculate_metrics(X_train, y_train)\n",
    "print(\"On the testing set:\")\n",
    "calculate_metrics(X_test, y_test)"
   ]
  },
  {
   "cell_type": "code",
   "execution_count": 43,
   "outputs": [],
   "source": [
    "# Save the model weights.\n",
    "weights_path = models_path / \"pygad_weights.pth\"\n",
    "torch.save(iris_model.state_dict(), weights_path)"
   ],
   "metadata": {
    "collapsed": false,
    "ExecuteTime": {
     "end_time": "2023-05-15T14:03:49.243876100Z",
     "start_time": "2023-05-15T14:03:49.218441600Z"
    }
   }
  }
 ],
 "metadata": {
  "kernelspec": {
   "display_name": "Python 3 (ipykernel)",
   "language": "python",
   "name": "python3"
  },
  "language_info": {
   "codemirror_mode": {
    "name": "ipython",
    "version": 3
   },
   "file_extension": ".py",
   "mimetype": "text/x-python",
   "name": "python",
   "nbconvert_exporter": "python",
   "pygments_lexer": "ipython3",
   "version": "3.10.11"
  }
 },
 "nbformat": 4,
 "nbformat_minor": 4
}
