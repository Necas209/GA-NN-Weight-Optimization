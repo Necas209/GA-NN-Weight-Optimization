{
 "cells": [
  {
   "cell_type": "markdown",
   "source": [
    "# Genetic Algorithm for Finding the Optimal Neural Network Weights"
   ],
   "metadata": {
    "collapsed": false
   }
  },
  {
   "cell_type": "markdown",
   "source": [
    "## Imports"
   ],
   "metadata": {
    "collapsed": false
   }
  },
  {
   "cell_type": "code",
   "execution_count": 1,
   "metadata": {
    "ExecuteTime": {
     "start_time": "2023-04-28T16:15:28.885643Z",
     "end_time": "2023-04-28T16:15:31.391324Z"
    },
    "collapsed": false,
    "jupyter": {
     "outputs_hidden": false
    }
   },
   "outputs": [],
   "source": [
    "import numpy as np\n",
    "import torch\n",
    "import torch.nn as nn\n",
    "from sklearn.datasets import load_iris\n",
    "from sklearn.model_selection import train_test_split\n",
    "from sklearn.preprocessing import StandardScaler"
   ]
  },
  {
   "cell_type": "markdown",
   "source": [
    "## Data preparation"
   ],
   "metadata": {
    "collapsed": false
   }
  },
  {
   "cell_type": "code",
   "execution_count": 2,
   "metadata": {
    "ExecuteTime": {
     "start_time": "2023-04-28T16:15:31.393562Z",
     "end_time": "2023-04-28T16:15:31.406833Z"
    },
    "collapsed": false,
    "jupyter": {
     "outputs_hidden": false
    }
   },
   "outputs": [],
   "source": [
    "# Load the iris dataset.\n",
    "iris = load_iris()\n",
    "X: np.ndarray = iris.data\n",
    "y: np.ndarray = iris.target"
   ]
  },
  {
   "cell_type": "code",
   "execution_count": 3,
   "metadata": {
    "ExecuteTime": {
     "start_time": "2023-04-28T16:15:31.407948Z",
     "end_time": "2023-04-28T16:15:31.432377Z"
    },
    "collapsed": false,
    "jupyter": {
     "outputs_hidden": false
    }
   },
   "outputs": [],
   "source": [
    "# Split the dataset into training and testing sets.\n",
    "X_train, X_test, y_train, y_test = train_test_split(X, y, test_size=0.1, random_state=42)"
   ]
  },
  {
   "cell_type": "code",
   "execution_count": 4,
   "metadata": {
    "ExecuteTime": {
     "start_time": "2023-04-28T16:15:31.425317Z",
     "end_time": "2023-04-28T16:15:31.437799Z"
    },
    "collapsed": false,
    "jupyter": {
     "outputs_hidden": false
    }
   },
   "outputs": [],
   "source": [
    "# Scale the data.\n",
    "scaler = StandardScaler()\n",
    "X_train = scaler.fit_transform(X_train)\n",
    "X_test = scaler.transform(X_test)"
   ]
  },
  {
   "cell_type": "code",
   "execution_count": 5,
   "metadata": {
    "ExecuteTime": {
     "start_time": "2023-04-28T16:15:31.440812Z",
     "end_time": "2023-04-28T16:15:31.453038Z"
    },
    "collapsed": false,
    "jupyter": {
     "outputs_hidden": false
    }
   },
   "outputs": [],
   "source": [
    "X_train: torch.Tensor = torch.from_numpy(X_train).float()\n",
    "X_test: torch.Tensor = torch.from_numpy(X_test).float()\n",
    "y_train: torch.Tensor = torch.from_numpy(y_train).long()\n",
    "y_test: torch.Tensor = torch.from_numpy(y_test).long()"
   ]
  },
  {
   "cell_type": "markdown",
   "source": [
    "## Model definition"
   ],
   "metadata": {
    "collapsed": false
   }
  },
  {
   "cell_type": "code",
   "execution_count": 6,
   "outputs": [],
   "source": [
    "# Create the model.\n",
    "iris_model = nn.Sequential(\n",
    "    nn.Linear(4, 10),\n",
    "    nn.ReLU(),\n",
    "    nn.Linear(10, 3),\n",
    "    nn.Softmax(dim=1)\n",
    ")"
   ],
   "metadata": {
    "collapsed": false,
    "ExecuteTime": {
     "start_time": "2023-04-28T16:15:32.005296Z",
     "end_time": "2023-04-28T16:15:32.016382Z"
    }
   }
  },
  {
   "cell_type": "code",
   "execution_count": 7,
   "outputs": [],
   "source": [
    "# Define the loss function.\n",
    "criterion = nn.CrossEntropyLoss()"
   ],
   "metadata": {
    "collapsed": false,
    "ExecuteTime": {
     "start_time": "2023-04-28T16:15:32.924610Z",
     "end_time": "2023-04-28T16:15:32.933123Z"
    }
   }
  },
  {
   "cell_type": "code",
   "execution_count": 8,
   "outputs": [],
   "source": [
    "# Evaluate the model.\n",
    "def calculate_metrics(x: torch.Tensor, yt: torch.Tensor) -> None:\n",
    "    preds = iris_model(x)\n",
    "    # Calculate the crossentropy loss of the trained model.\n",
    "    loss = criterion(preds, yt).detach().numpy()\n",
    "    print(f\"Crossentropy : {loss}\")\n",
    "    # Calculate the classification accuracy for the trained model.\n",
    "    preds = preds.detach().numpy()\n",
    "    yt = yt.detach().numpy()\n",
    "    acc = np.sum(np.argmax(preds, axis=1) == yt) / len(yt)\n",
    "    print(f\"Accuracy : {acc}\")"
   ],
   "metadata": {
    "collapsed": false,
    "ExecuteTime": {
     "start_time": "2023-04-28T16:15:33.531619Z",
     "end_time": "2023-04-28T16:15:33.539921Z"
    }
   }
  },
  {
   "cell_type": "markdown",
   "source": [
    "## Implementation using our own Genetic Algorithm"
   ],
   "metadata": {
    "collapsed": false
   }
  },
  {
   "cell_type": "code",
   "execution_count": 9,
   "outputs": [],
   "source": [
    "from genalg import GeneticAlgorithm, ModelParams"
   ],
   "metadata": {
    "collapsed": false,
    "ExecuteTime": {
     "start_time": "2023-04-28T16:15:36.985424Z",
     "end_time": "2023-04-28T16:15:37.218008Z"
    }
   }
  },
  {
   "cell_type": "code",
   "execution_count": 10,
   "outputs": [],
   "source": [
    "# Move the model and data to the GPU.\n",
    "iris_model = iris_model.cuda()\n",
    "X_train = X_train.cuda()\n",
    "y_train = y_train.cuda()"
   ],
   "metadata": {
    "collapsed": false,
    "ExecuteTime": {
     "start_time": "2023-04-28T16:15:37.533928Z",
     "end_time": "2023-04-28T16:15:37.638935Z"
    }
   }
  },
  {
   "cell_type": "code",
   "execution_count": 11,
   "outputs": [],
   "source": [
    "def load_params(model: nn.Module, params: ModelParams) -> None:\n",
    "    model_params = model.state_dict()\n",
    "    model_params['0.weight'] = torch.FloatTensor(params[:40].reshape(10, 4))\n",
    "    model_params['0.bias'] = torch.FloatTensor(params[40:50])\n",
    "    model_params['2.weight'] = torch.FloatTensor(params[50:80].reshape(3, 10))\n",
    "    model_params['2.bias'] = torch.FloatTensor(params[80:])\n",
    "    model.load_state_dict(model_params)"
   ],
   "metadata": {
    "collapsed": false,
    "ExecuteTime": {
     "start_time": "2023-04-28T16:15:37.996442Z",
     "end_time": "2023-04-28T16:15:38.016196Z"
    }
   }
  },
  {
   "cell_type": "code",
   "execution_count": 12,
   "outputs": [],
   "source": [
    "def on_generation(generation: int, scores: list[float]) -> None:\n",
    "    print(\n",
    "        f\"Generation: {generation:0=3} \"\n",
    "        f\"Best fitness: {np.max(scores):.10f} \"\n",
    "        f\"Average fitness: {np.mean(scores):.10f} \"\n",
    "        f\"Worst fitness: {np.min(scores):.10f}\"\n",
    "    )"
   ],
   "metadata": {
    "collapsed": false,
    "ExecuteTime": {
     "start_time": "2023-04-28T16:15:38.678692Z",
     "end_time": "2023-04-28T16:15:38.695660Z"
    }
   }
  },
  {
   "cell_type": "code",
   "execution_count": 13,
   "outputs": [],
   "source": [
    "def fitness_fn(model: nn.Module, solution: ModelParams) -> float:\n",
    "    load_params(model, solution)\n",
    "    with torch.no_grad():\n",
    "        outputs = model(X_train)\n",
    "        loss: torch.Tensor = criterion(outputs, y_train)\n",
    "        fitness = 1.0 / (loss.detach().item() + 1e-8)\n",
    "        # _, predicted = torch.max(outputs.data, 1)\n",
    "        # fitness = (predicted == labels).sum().item() / len(labels)\n",
    "    return fitness"
   ],
   "metadata": {
    "collapsed": false,
    "ExecuteTime": {
     "start_time": "2023-04-28T16:15:39.401547Z",
     "end_time": "2023-04-28T16:15:39.417230Z"
    }
   }
  },
  {
   "cell_type": "code",
   "execution_count": 14,
   "outputs": [],
   "source": [
    "# Create the GA instance\n",
    "ga = GeneticAlgorithm(\n",
    "    model=iris_model,\n",
    "    train_set=(X_train, y_train),\n",
    "    population_size=50,\n",
    "    num_generations=500,\n",
    "    mutation_rate=0.01,\n",
    "    fitness_fn=fitness_fn,\n",
    "    on_generation=on_generation,\n",
    "    on_generation_interval=20,\n",
    ")"
   ],
   "metadata": {
    "collapsed": false,
    "ExecuteTime": {
     "start_time": "2023-04-28T16:15:40.151827Z",
     "end_time": "2023-04-28T16:15:40.161826Z"
    }
   }
  },
  {
   "cell_type": "code",
   "execution_count": 15,
   "outputs": [
    {
     "name": "stdout",
     "output_type": "stream",
     "text": [
      "Generation: 000 Best fitness: 1.1862001945 Average fitness: 0.8833082881 Worst fitness: 0.7355167225\n",
      "Generation: 020 Best fitness: 1.2314471151 Average fitness: 0.9786030339 Worst fitness: 0.8203822570\n",
      "Generation: 040 Best fitness: 1.2567507847 Average fitness: 1.0669011597 Worst fitness: 0.8898937048\n",
      "Generation: 060 Best fitness: 1.2794887621 Average fitness: 1.1455696890 Worst fitness: 0.9110662551\n",
      "Generation: 080 Best fitness: 1.2943339179 Average fitness: 1.2088800848 Worst fitness: 0.9555961283\n",
      "Generation: 100 Best fitness: 1.2658090773 Average fitness: 1.2188944638 Worst fitness: 1.1359915303\n",
      "Generation: 120 Best fitness: 1.2809557749 Average fitness: 1.2317493995 Worst fitness: 1.1686800698\n",
      "Generation: 140 Best fitness: 1.2703747665 Average fitness: 1.2402881977 Worst fitness: 1.1930681760\n",
      "Generation: 160 Best fitness: 1.2814880396 Average fitness: 1.2312557000 Worst fitness: 1.1680138745\n",
      "Generation: 180 Best fitness: 1.2815218103 Average fitness: 1.2477107982 Worst fitness: 1.2001100592\n",
      "Generation: 200 Best fitness: 1.2730698380 Average fitness: 1.2469034406 Worst fitness: 1.2117527306\n",
      "Generation: 220 Best fitness: 1.2984743554 Average fitness: 1.2647978156 Worst fitness: 1.2310188242\n",
      "Generation: 240 Best fitness: 1.3358993899 Average fitness: 1.2964251333 Worst fitness: 1.2658859618\n",
      "Generation: 260 Best fitness: 1.3393233247 Average fitness: 1.3059780353 Worst fitness: 1.2701281753\n",
      "Generation: 280 Best fitness: 1.3524402275 Average fitness: 1.3124396680 Worst fitness: 1.2622182607\n",
      "Generation: 300 Best fitness: 1.3477768975 Average fitness: 1.3150494652 Worst fitness: 1.2658953223\n",
      "Generation: 320 Best fitness: 1.3446528216 Average fitness: 1.3203989254 Worst fitness: 1.2897216025\n",
      "Generation: 340 Best fitness: 1.3589635051 Average fitness: 1.3291142578 Worst fitness: 1.2862510664\n",
      "Generation: 360 Best fitness: 1.3716576969 Average fitness: 1.3365592951 Worst fitness: 1.2790488355\n",
      "Generation: 380 Best fitness: 1.3862838220 Average fitness: 1.3508414569 Worst fitness: 1.2985244041\n",
      "Generation: 400 Best fitness: 1.3791883887 Average fitness: 1.3438307337 Worst fitness: 1.3025723926\n",
      "Generation: 420 Best fitness: 1.3494083635 Average fitness: 1.3293005805 Worst fitness: 1.3034755104\n",
      "Generation: 440 Best fitness: 1.3697261808 Average fitness: 1.3352737402 Worst fitness: 1.3055546782\n",
      "Generation: 460 Best fitness: 1.3612269247 Average fitness: 1.3336157647 Worst fitness: 1.2952936429\n",
      "Generation: 480 Best fitness: 1.3622083724 Average fitness: 1.3256908437 Worst fitness: 1.2704216142\n"
     ]
    }
   ],
   "source": [
    "# Run the algorithm\n",
    "ga.run()"
   ],
   "metadata": {
    "collapsed": false,
    "ExecuteTime": {
     "start_time": "2023-04-28T16:15:40.942660Z",
     "end_time": "2023-04-28T16:16:12.903421Z"
    }
   }
  },
  {
   "cell_type": "code",
   "execution_count": 18,
   "outputs": [
    {
     "data": {
      "text/plain": "<Figure size 640x480 with 1 Axes>",
      "image/png": "[encoded data removed]"
     },
     "metadata": {},
     "output_type": "display_data"
    }
   ],
   "source": [
    "# Plot the fitness curve.\n",
    "ga.plot_fitness()"
   ],
   "metadata": {
    "collapsed": false,
    "ExecuteTime": {
     "start_time": "2023-04-28T16:17:01.670155Z",
     "end_time": "2023-04-28T16:17:02.212740Z"
    }
   }
  },
  {
   "cell_type": "code",
   "execution_count": 19,
   "outputs": [],
   "source": [
    "# Load the weights of the best solution into the model.\n",
    "best_solution = ga.best_solution\n",
    "load_params(iris_model, best_solution)"
   ],
   "metadata": {
    "collapsed": false,
    "ExecuteTime": {
     "start_time": "2023-04-28T16:17:13.338473Z",
     "end_time": "2023-04-28T16:17:13.750691Z"
    }
   }
  },
  {
   "cell_type": "code",
   "execution_count": 20,
   "outputs": [],
   "source": [
    "# Move the model and data to the CPU.\n",
    "iris_model = iris_model.cpu()\n",
    "X_train = X_train.cpu()\n",
    "y_train = y_train.cpu()"
   ],
   "metadata": {
    "collapsed": false,
    "ExecuteTime": {
     "start_time": "2023-04-28T16:17:14.897684Z",
     "end_time": "2023-04-28T16:17:14.915978Z"
    }
   }
  },
  {
   "cell_type": "code",
   "execution_count": 21,
   "outputs": [
    {
     "name": "stdout",
     "output_type": "stream",
     "text": [
      "On the training set:\n",
      "Crossentropy : 0.715614914894104\n",
      "Accuracy : 0.8444444444444444\n",
      "On the testing set:\n",
      "Crossentropy : 0.7125720977783203\n",
      "Accuracy : 0.9333333333333333\n"
     ]
    }
   ],
   "source": [
    "# Calculate the metrics of the best solution.\n",
    "print(\"On the training set:\")\n",
    "calculate_metrics(X_train, y_train)\n",
    "print(\"On the testing set:\")\n",
    "calculate_metrics(X_test, y_test)"
   ],
   "metadata": {
    "collapsed": false,
    "ExecuteTime": {
     "start_time": "2023-04-28T16:17:15.640625Z",
     "end_time": "2023-04-28T16:17:15.660469Z"
    }
   }
  },
  {
   "cell_type": "markdown",
   "source": [
    "## Implementation using PyGAD library"
   ],
   "metadata": {
    "collapsed": false
   }
  },
  {
   "cell_type": "code",
   "execution_count": null,
   "outputs": [],
   "source": [
    "import pygad\n",
    "import pygad.torchga as torchga"
   ],
   "metadata": {
    "collapsed": false
   }
  },
  {
   "cell_type": "code",
   "execution_count": null,
   "outputs": [],
   "source": [
    "# Move the model and data to the CPU.\n",
    "iris_model = iris_model.cpu()\n",
    "X_train = X_train.cpu()\n",
    "y_train = y_train.cpu()"
   ],
   "metadata": {
    "collapsed": false
   }
  },
  {
   "cell_type": "code",
   "execution_count": 6,
   "metadata": {
    "ExecuteTime": {
     "end_time": "2023-04-27T23:16:31.846030Z",
     "start_time": "2023-04-27T23:16:31.831896Z"
    },
    "collapsed": false,
    "jupyter": {
     "outputs_hidden": false
    }
   },
   "outputs": [],
   "source": [
    "# Define the parameters.\n",
    "sol_per_pop = 10\n",
    "num_generations = 50"
   ]
  },
  {
   "cell_type": "code",
   "execution_count": 8,
   "metadata": {
    "ExecuteTime": {
     "end_time": "2023-04-27T23:16:32.887355Z",
     "start_time": "2023-04-27T23:16:32.871019Z"
    },
    "collapsed": false,
    "jupyter": {
     "outputs_hidden": false
    }
   },
   "outputs": [],
   "source": [
    "# Create an instance of the pygad.torchga.TorchGA class to build the initial population.\n",
    "torch_ga = torchga.TorchGA(\n",
    "    model=iris_model,\n",
    "    num_solutions=sol_per_pop,\n",
    ")"
   ]
  },
  {
   "cell_type": "code",
   "execution_count": 10,
   "metadata": {
    "ExecuteTime": {
     "end_time": "2023-04-27T23:16:39.430374Z",
     "start_time": "2023-04-27T23:16:39.403571Z"
    },
    "collapsed": false,
    "jupyter": {
     "outputs_hidden": false
    }
   },
   "outputs": [],
   "source": [
    "# Some parameters are initialized within the constructor.\n",
    "initial_population = torch_ga.population_weights"
   ]
  },
  {
   "cell_type": "code",
   "execution_count": 12,
   "metadata": {
    "ExecuteTime": {
     "end_time": "2023-04-27T23:16:41.104142Z",
     "start_time": "2023-04-27T23:16:41.091884Z"
    },
    "collapsed": false,
    "jupyter": {
     "outputs_hidden": false
    }
   },
   "outputs": [],
   "source": [
    "# Define the fitness function for classification.\n",
    "def fitness_func(_ga: pygad.GA, sol: np.ndarray, _sol_idx: int) -> float:\n",
    "    preds = torchga.predict(model=iris_model.cpu(),\n",
    "                            solution=sol,\n",
    "                            data=X_train)\n",
    "    fitness = 1.0 / (criterion(preds, y_train).detach().numpy() + 1e-8)\n",
    "    return fitness"
   ]
  },
  {
   "cell_type": "code",
   "execution_count": 164,
   "metadata": {
    "ExecuteTime": {
     "start_time": "2023-04-27T23:57:28.250360Z",
     "end_time": "2023-04-27T23:57:28.264360Z"
    },
    "collapsed": false,
    "jupyter": {
     "outputs_hidden": false
    }
   },
   "outputs": [],
   "source": [
    "# Define the callback function.\n",
    "# noinspection PyShadowingNames\n",
    "def on_generation(ga: pygad.GA) -> None:\n",
    "    print(f'Gen#{ga.generations_completed:0=2}, Fitness: {ga.best_solution()[1]}')"
   ]
  },
  {
   "cell_type": "code",
   "execution_count": 165,
   "metadata": {
    "ExecuteTime": {
     "start_time": "2023-04-27T23:57:28.542874Z",
     "end_time": "2023-04-27T23:57:28.548148Z"
    },
    "collapsed": false,
    "jupyter": {
     "outputs_hidden": false
    }
   },
   "outputs": [],
   "source": [
    "# Create an instance of the GA class inside the ga module.\n",
    "ga = pygad.GA(\n",
    "    num_generations=num_generations,\n",
    "    num_parents_mating=sol_per_pop // 2,\n",
    "    initial_population=initial_population,\n",
    "    fitness_func=fitness_func,\n",
    "    on_generation=on_generation,\n",
    ")"
   ]
  },
  {
   "cell_type": "code",
   "execution_count": 166,
   "metadata": {
    "ExecuteTime": {
     "start_time": "2023-04-27T23:57:28.754722Z",
     "end_time": "2023-04-27T23:57:29.512121Z"
    },
    "collapsed": false,
    "jupyter": {
     "outputs_hidden": false
    }
   },
   "outputs": [
    {
     "name": "stdout",
     "output_type": "stream",
     "text": [
      "Gen#01, Fitness: 1.1900599037353496\n",
      "Gen#02, Fitness: 1.1939120165478048\n",
      "Gen#03, Fitness: 1.2502427155310072\n",
      "Gen#04, Fitness: 1.2744013373097203\n",
      "Gen#05, Fitness: 1.2744013373097203\n",
      "Gen#06, Fitness: 1.3096510824545786\n",
      "Gen#07, Fitness: 1.313579069726608\n",
      "Gen#08, Fitness: 1.313579069726608\n",
      "Gen#09, Fitness: 1.4125254347724279\n",
      "Gen#10, Fitness: 1.4570124547086483\n",
      "Gen#11, Fitness: 1.4570124547086483\n",
      "Gen#12, Fitness: 1.4574750826808072\n",
      "Gen#13, Fitness: 1.5130824662310964\n",
      "Gen#14, Fitness: 1.570167458032895\n",
      "Gen#15, Fitness: 1.570167458032895\n",
      "Gen#16, Fitness: 1.570167458032895\n",
      "Gen#17, Fitness: 1.570167458032895\n",
      "Gen#18, Fitness: 1.5929823967826195\n",
      "Gen#19, Fitness: 1.5946400303453707\n",
      "Gen#20, Fitness: 1.6215502609794425\n",
      "Gen#21, Fitness: 1.6215502609794425\n",
      "Gen#22, Fitness: 1.6215502609794425\n",
      "Gen#23, Fitness: 1.6215502609794425\n",
      "Gen#24, Fitness: 1.6215502609794425\n",
      "Gen#25, Fitness: 1.6215502609794425\n",
      "Gen#26, Fitness: 1.6321193421385587\n",
      "Gen#27, Fitness: 1.6321193421385587\n",
      "Gen#28, Fitness: 1.6321193421385587\n",
      "Gen#29, Fitness: 1.6321193421385587\n",
      "Gen#30, Fitness: 1.6725702229093893\n",
      "Gen#31, Fitness: 1.6725702229093893\n",
      "Gen#32, Fitness: 1.6725702229093893\n",
      "Gen#33, Fitness: 1.6725702229093893\n",
      "Gen#34, Fitness: 1.680807366044052\n",
      "Gen#35, Fitness: 1.680807366044052\n",
      "Gen#36, Fitness: 1.680807366044052\n",
      "Gen#37, Fitness: 1.680807366044052\n",
      "Gen#38, Fitness: 1.680807366044052\n",
      "Gen#39, Fitness: 1.6910548628000404\n",
      "Gen#40, Fitness: 1.6910548628000404\n",
      "Gen#41, Fitness: 1.6910548628000404\n",
      "Gen#42, Fitness: 1.6910548628000404\n",
      "Gen#43, Fitness: 1.6910548628000404\n",
      "Gen#44, Fitness: 1.6910548628000404\n",
      "Gen#45, Fitness: 1.6917417118803206\n",
      "Gen#46, Fitness: 1.693811938088422\n",
      "Gen#47, Fitness: 1.693811938088422\n",
      "Gen#48, Fitness: 1.7127892177075088\n",
      "Gen#49, Fitness: 1.7127892177075088\n",
      "Gen#50, Fitness: 1.7237554958501575\n"
     ]
    }
   ],
   "source": [
    "# Run the genetic algorithm.\n",
    "ga.run()"
   ]
  },
  {
   "cell_type": "code",
   "execution_count": 16,
   "metadata": {
    "ExecuteTime": {
     "end_time": "2023-04-27T23:16:49.155192Z",
     "start_time": "2023-04-27T23:16:49.060477Z"
    },
    "collapsed": false,
    "jupyter": {
     "outputs_hidden": false
    }
   },
   "outputs": [
    {
     "data": {
      "image/png": "[encoded data removed]",
      "text/plain": [
       "<Figure size 640x480 with 1 Axes>"
      ]
     },
     "metadata": {},
     "output_type": "display_data"
    }
   ],
   "source": [
    "# After the generations complete, some plots are shown that summarize\n",
    "# how the outputs/fitness values evolve over generations.\n",
    "_ = ga.plot_fitness(\n",
    "    title=\"PyGAD & PyTorch - Iteration vs. Fitness\",\n",
    "    linewidth=4\n",
    ")"
   ]
  },
  {
   "cell_type": "code",
   "execution_count": 17,
   "metadata": {
    "ExecuteTime": {
     "end_time": "2023-04-27T23:16:51.411705Z",
     "start_time": "2023-04-27T23:16:51.382734Z"
    },
    "collapsed": false,
    "jupyter": {
     "outputs_hidden": false
    }
   },
   "outputs": [
    {
     "name": "stdout",
     "output_type": "stream",
     "text": [
      "Fitness value of the best solution = 1.7365702912376162\n",
      "Index of the best solution : 0\n"
     ]
    }
   ],
   "source": [
    "# Returning the details of the best solution.\n",
    "best_solution, best_solution_fitness, best_solution_idx = ga.best_solution()\n",
    "print(f\"Fitness value of the best solution = {best_solution_fitness}\")\n",
    "print(f\"Index of the best solution : {best_solution_idx}\")"
   ]
  },
  {
   "cell_type": "code",
   "execution_count": 18,
   "metadata": {
    "ExecuteTime": {
     "end_time": "2023-04-27T23:20:56.195916Z",
     "start_time": "2023-04-27T23:20:56.187258Z"
    },
    "collapsed": false,
    "jupyter": {
     "outputs_hidden": false
    }
   },
   "outputs": [
    {
     "data": {
      "text/plain": [
       "<All keys matched successfully>"
      ]
     },
     "execution_count": 18,
     "metadata": {},
     "output_type": "execute_result"
    }
   ],
   "source": [
    "# Fetch the parameters of the best solution.\n",
    "best_solution_weights = torchga.model_weights_as_dict(\n",
    "    model=iris_model,\n",
    "    weights_vector=best_solution\n",
    ")\n",
    "iris_model.load_state_dict(best_solution_weights)"
   ]
  },
  {
   "cell_type": "code",
   "execution_count": 20,
   "metadata": {
    "ExecuteTime": {
     "end_time": "2023-04-27T23:29:31.004746Z",
     "start_time": "2023-04-27T23:29:30.995236Z"
    },
    "collapsed": false,
    "jupyter": {
     "outputs_hidden": false
    }
   },
   "outputs": [
    {
     "name": "stdout",
     "output_type": "stream",
     "text": [
      "On the training set:\n",
      "Crossentropy : 0.5758476853370667\n",
      "Accuracy : 0.9851851851851852\n"
     ]
    }
   ],
   "source": [
    "print(\"On the training set:\")\n",
    "calculate_metrics(X_train, y_train)"
   ]
  },
  {
   "cell_type": "code",
   "execution_count": 21,
   "metadata": {
    "ExecuteTime": {
     "end_time": "2023-04-27T23:29:31.825525Z",
     "start_time": "2023-04-27T23:29:31.804163Z"
    },
    "collapsed": false,
    "jupyter": {
     "outputs_hidden": false
    }
   },
   "outputs": [
    {
     "name": "stdout",
     "output_type": "stream",
     "text": [
      "On the testing set:\n",
      "Crossentropy : 0.5540574193000793\n",
      "Accuracy : 1.0\n"
     ]
    }
   ],
   "source": [
    "print(\"On the testing set:\")\n",
    "calculate_metrics(X_test, y_test)"
   ]
  }
 ],
 "metadata": {
  "kernelspec": {
   "display_name": "Python 3 (ipykernel)",
   "language": "python",
   "name": "python3"
  },
  "language_info": {
   "codemirror_mode": {
    "name": "ipython",
    "version": 3
   },
   "file_extension": ".py",
   "mimetype": "text/x-python",
   "name": "python",
   "nbconvert_exporter": "python",
   "pygments_lexer": "ipython3",
   "version": "3.10.11"
  }
 },
 "nbformat": 4,
 "nbformat_minor": 4
}
