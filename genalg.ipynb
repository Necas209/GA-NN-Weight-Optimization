{
 "cells": [
  {
   "cell_type": "markdown",
   "source": [
    "# Genetic Algorithm for Finding the Optimal Neural Network Weights"
   ],
   "metadata": {
    "collapsed": false
   }
  },
  {
   "cell_type": "markdown",
   "source": [
    "## Imports"
   ],
   "metadata": {
    "collapsed": false
   }
  },
  {
   "cell_type": "code",
   "execution_count": 1,
   "metadata": {
    "collapsed": false,
    "jupyter": {
     "outputs_hidden": false
    },
    "ExecuteTime": {
     "end_time": "2023-04-30T11:49:33.683704300Z",
     "start_time": "2023-04-30T11:49:28.471643400Z"
    }
   },
   "outputs": [],
   "source": [
    "import numpy as np\n",
    "import torch\n",
    "import torch.nn as nn\n",
    "from sklearn.datasets import load_iris\n",
    "from sklearn.model_selection import train_test_split\n",
    "from sklearn.preprocessing import StandardScaler"
   ]
  },
  {
   "cell_type": "markdown",
   "source": [
    "## Data preparation"
   ],
   "metadata": {
    "collapsed": false
   }
  },
  {
   "cell_type": "code",
   "execution_count": 2,
   "metadata": {
    "collapsed": false,
    "jupyter": {
     "outputs_hidden": false
    },
    "ExecuteTime": {
     "end_time": "2023-04-30T11:49:33.702263Z",
     "start_time": "2023-04-30T11:49:33.690389800Z"
    }
   },
   "outputs": [],
   "source": [
    "# Load the iris dataset.\n",
    "iris = load_iris()\n",
    "X: np.ndarray = iris.data\n",
    "y: np.ndarray = iris.target"
   ]
  },
  {
   "cell_type": "code",
   "execution_count": 3,
   "metadata": {
    "collapsed": false,
    "jupyter": {
     "outputs_hidden": false
    },
    "ExecuteTime": {
     "end_time": "2023-04-30T11:49:33.739377400Z",
     "start_time": "2023-04-30T11:49:33.704563400Z"
    }
   },
   "outputs": [],
   "source": [
    "# Split the dataset into training and testing sets.\n",
    "X_train, X_test, y_train, y_test = train_test_split(X, y, test_size=0.1, random_state=42)"
   ]
  },
  {
   "cell_type": "code",
   "execution_count": 4,
   "metadata": {
    "collapsed": false,
    "jupyter": {
     "outputs_hidden": false
    },
    "ExecuteTime": {
     "end_time": "2023-04-30T11:49:33.745012500Z",
     "start_time": "2023-04-30T11:49:33.721577100Z"
    }
   },
   "outputs": [],
   "source": [
    "# Scale the data.\n",
    "scaler = StandardScaler()\n",
    "X_train = scaler.fit_transform(X_train)\n",
    "X_test = scaler.transform(X_test)"
   ]
  },
  {
   "cell_type": "code",
   "execution_count": 5,
   "metadata": {
    "collapsed": false,
    "jupyter": {
     "outputs_hidden": false
    },
    "ExecuteTime": {
     "end_time": "2023-04-30T11:49:33.757496200Z",
     "start_time": "2023-04-30T11:49:33.748798700Z"
    }
   },
   "outputs": [],
   "source": [
    "X_train: torch.Tensor = torch.from_numpy(X_train).float()\n",
    "X_test: torch.Tensor = torch.from_numpy(X_test).float()\n",
    "y_train: torch.Tensor = torch.from_numpy(y_train).long()\n",
    "y_test: torch.Tensor = torch.from_numpy(y_test).long()"
   ]
  },
  {
   "cell_type": "markdown",
   "source": [
    "## Model definition"
   ],
   "metadata": {
    "collapsed": false
   }
  },
  {
   "cell_type": "code",
   "execution_count": 6,
   "outputs": [],
   "source": [
    "# Create the model.\n",
    "iris_model = nn.Sequential(\n",
    "    nn.Linear(4, 10),\n",
    "    nn.ReLU(),\n",
    "    nn.Linear(10, 3),\n",
    "    nn.Softmax(dim=1)\n",
    ")"
   ],
   "metadata": {
    "collapsed": false,
    "ExecuteTime": {
     "end_time": "2023-04-30T11:49:33.781123500Z",
     "start_time": "2023-04-30T11:49:33.763916100Z"
    }
   }
  },
  {
   "cell_type": "code",
   "execution_count": 7,
   "outputs": [],
   "source": [
    "# Define the loss function.\n",
    "criterion = nn.CrossEntropyLoss()"
   ],
   "metadata": {
    "collapsed": false,
    "ExecuteTime": {
     "end_time": "2023-04-30T11:49:33.792549200Z",
     "start_time": "2023-04-30T11:49:33.779098500Z"
    }
   }
  },
  {
   "cell_type": "code",
   "execution_count": 8,
   "outputs": [],
   "source": [
    "# Evaluate the model.\n",
    "def calculate_metrics(x: torch.Tensor, yt: torch.Tensor) -> None:\n",
    "    preds = iris_model(x)\n",
    "    # Calculate the crossentropy loss of the trained model.\n",
    "    loss = criterion(preds, yt).detach().numpy()\n",
    "    print(f\"Crossentropy : {loss}\")\n",
    "    # Calculate the classification accuracy for the trained model.\n",
    "    preds = preds.detach().numpy()\n",
    "    yt = yt.detach().numpy()\n",
    "    acc = np.sum(np.argmax(preds, axis=1) == yt) / len(yt)\n",
    "    print(f\"Accuracy : {acc}\")"
   ],
   "metadata": {
    "collapsed": false,
    "ExecuteTime": {
     "end_time": "2023-04-30T11:49:33.907468400Z",
     "start_time": "2023-04-30T11:49:33.896229900Z"
    }
   }
  },
  {
   "cell_type": "markdown",
   "source": [
    "## Implementation using our own Genetic Algorithm"
   ],
   "metadata": {
    "collapsed": false
   }
  },
  {
   "cell_type": "code",
   "execution_count": 9,
   "outputs": [],
   "source": [
    "from genalg import GeneticAlgorithm, ModelParams"
   ],
   "metadata": {
    "collapsed": false,
    "ExecuteTime": {
     "end_time": "2023-04-30T11:49:36.831867900Z",
     "start_time": "2023-04-30T11:49:36.384854Z"
    }
   }
  },
  {
   "cell_type": "code",
   "execution_count": 10,
   "outputs": [],
   "source": [
    "# Move the model and data to the GPU.\n",
    "iris_model = iris_model.cuda()\n",
    "X_train = X_train.cuda()\n",
    "y_train = y_train.cuda()"
   ],
   "metadata": {
    "collapsed": false,
    "ExecuteTime": {
     "end_time": "2023-04-30T11:49:37.165661400Z",
     "start_time": "2023-04-30T11:49:36.830315500Z"
    }
   }
  },
  {
   "cell_type": "code",
   "execution_count": 11,
   "outputs": [],
   "source": [
    "def load_params(model: nn.Module, params: ModelParams) -> None:\n",
    "    model_params = model.state_dict()\n",
    "    model_params['0.weight'] = torch.FloatTensor(params[:40].reshape(10, 4))\n",
    "    model_params['0.bias'] = torch.FloatTensor(params[40:50])\n",
    "    model_params['2.weight'] = torch.FloatTensor(params[50:80].reshape(3, 10))\n",
    "    model_params['2.bias'] = torch.FloatTensor(params[80:])\n",
    "    model.load_state_dict(model_params)"
   ],
   "metadata": {
    "collapsed": false,
    "ExecuteTime": {
     "end_time": "2023-04-30T11:49:37.189881400Z",
     "start_time": "2023-04-30T11:49:37.176338700Z"
    }
   }
  },
  {
   "cell_type": "code",
   "execution_count": 12,
   "outputs": [],
   "source": [
    "def on_generation(generation: int, scores: list[float]) -> None:\n",
    "    print(\n",
    "        f\"Generation: {generation:0=3} \"\n",
    "        f\"Best fitness: {np.max(scores):.10f} \"\n",
    "        f\"Average fitness: {np.mean(scores):.10f} \"\n",
    "        f\"Worst fitness: {np.min(scores):.10f}\"\n",
    "    )"
   ],
   "metadata": {
    "collapsed": false,
    "ExecuteTime": {
     "end_time": "2023-04-30T11:49:38.094431Z",
     "start_time": "2023-04-30T11:49:38.061554300Z"
    }
   }
  },
  {
   "cell_type": "code",
   "execution_count": 13,
   "outputs": [],
   "source": [
    "def fitness_fn(solution: ModelParams) -> float:\n",
    "    load_params(iris_model, solution)\n",
    "    with torch.no_grad():\n",
    "        outputs = iris_model(X_train)\n",
    "        loss: torch.Tensor = criterion(outputs, y_train)\n",
    "        fitness = 1.0 / (loss.detach().item() + 1e-8)\n",
    "        # _, predicted = torch.max(outputs.data, 1)\n",
    "        # fitness = (predicted == labels).sum().item() / len(labels)\n",
    "    return fitness"
   ],
   "metadata": {
    "collapsed": false,
    "ExecuteTime": {
     "end_time": "2023-04-30T11:49:38.570023200Z",
     "start_time": "2023-04-30T11:49:38.551052100Z"
    }
   }
  },
  {
   "cell_type": "code",
   "execution_count": 14,
   "outputs": [],
   "source": [
    "# Create the GA instance\n",
    "ga = GeneticAlgorithm(\n",
    "    model=iris_model,\n",
    "    train_set=(X_train, y_train),\n",
    "    population_size=50,\n",
    "    num_generations=500,\n",
    "    neuron_off_rate=1e-4,\n",
    "    elitism=True,\n",
    "    fitness_fn=fitness_fn,\n",
    "    on_generation=on_generation,\n",
    "    on_generation_interval=20,\n",
    ")"
   ],
   "metadata": {
    "collapsed": false,
    "ExecuteTime": {
     "end_time": "2023-04-30T11:49:39.809091800Z",
     "start_time": "2023-04-30T11:49:39.790791500Z"
    }
   }
  },
  {
   "cell_type": "code",
   "execution_count": 15,
   "outputs": [
    {
     "name": "stdout",
     "output_type": "stream",
     "text": [
      "Generation: 000 Best fitness: 1.0665727372 Average fitness: 0.8824476441 Worst fitness: 0.7552748983\n",
      "Generation: 020 Best fitness: 1.2451207022 Average fitness: 1.1266118654 Worst fitness: 0.8853615762\n",
      "Generation: 040 Best fitness: 1.3850427843 Average fitness: 1.2159667500 Worst fitness: 1.0619618857\n",
      "Generation: 060 Best fitness: 1.4093776266 Average fitness: 1.3267778865 Worst fitness: 1.2148146391\n",
      "Generation: 080 Best fitness: 1.4648505228 Average fitness: 1.3730920814 Worst fitness: 1.2891850532\n",
      "Generation: 100 Best fitness: 1.5014744499 Average fitness: 1.4560008948 Worst fitness: 1.4093578548\n",
      "Generation: 120 Best fitness: 1.5284784891 Average fitness: 1.4802090172 Worst fitness: 1.4371568901\n",
      "Generation: 140 Best fitness: 1.5588377483 Average fitness: 1.5174219610 Worst fitness: 1.4532553824\n",
      "Generation: 160 Best fitness: 1.5786121955 Average fitness: 1.5539400837 Worst fitness: 1.5131534287\n",
      "Generation: 180 Best fitness: 1.5853049529 Average fitness: 1.5657369084 Worst fitness: 1.5515254581\n",
      "Generation: 200 Best fitness: 1.5940888192 Average fitness: 1.5721272139 Worst fitness: 1.5393548190\n",
      "Generation: 220 Best fitness: 1.6052673497 Average fitness: 1.5858672596 Worst fitness: 1.5576563333\n",
      "Generation: 240 Best fitness: 1.6153834413 Average fitness: 1.5981795665 Worst fitness: 1.5734126537\n",
      "Generation: 260 Best fitness: 1.6173223464 Average fitness: 1.6042723864 Worst fitness: 1.5787638651\n",
      "Generation: 280 Best fitness: 1.6248175145 Average fitness: 1.6094439733 Worst fitness: 1.5790035357\n",
      "Generation: 300 Best fitness: 1.6263085913 Average fitness: 1.6099657691 Worst fitness: 1.5894093790\n",
      "Generation: 320 Best fitness: 1.6376721367 Average fitness: 1.6188632110 Worst fitness: 1.5931891856\n",
      "Generation: 340 Best fitness: 1.6455032764 Average fitness: 1.6247595324 Worst fitness: 1.6095469582\n",
      "Generation: 360 Best fitness: 1.6471126197 Average fitness: 1.6254308437 Worst fitness: 1.5783261675\n",
      "Generation: 380 Best fitness: 1.6575175930 Average fitness: 1.6387240771 Worst fitness: 1.6136312073\n",
      "Generation: 400 Best fitness: 1.6616196469 Average fitness: 1.6405673094 Worst fitness: 1.3750840120\n",
      "Generation: 420 Best fitness: 1.6636500869 Average fitness: 1.6443062393 Worst fitness: 1.6081074074\n",
      "Generation: 440 Best fitness: 1.6710870223 Average fitness: 1.6543855742 Worst fitness: 1.6360751168\n",
      "Generation: 460 Best fitness: 1.6723021424 Average fitness: 1.6607585745 Worst fitness: 1.6387150737\n",
      "Generation: 480 Best fitness: 1.6802944387 Average fitness: 1.6675085849 Worst fitness: 1.6303781625\n"
     ]
    }
   ],
   "source": [
    "# Run the algorithm\n",
    "ga.run()"
   ],
   "metadata": {
    "collapsed": false,
    "ExecuteTime": {
     "end_time": "2023-04-30T11:50:28.020356100Z",
     "start_time": "2023-04-30T11:49:40.463362700Z"
    }
   }
  },
  {
   "cell_type": "code",
   "execution_count": 16,
   "outputs": [
    {
     "data": {
      "text/plain": "<Figure size 640x480 with 1 Axes>",
      "image/png": "[encoded data removed]"
     },
     "metadata": {},
     "output_type": "display_data"
    }
   ],
   "source": [
    "# Plot the fitness curve.\n",
    "ga.plot_fitness()"
   ],
   "metadata": {
    "collapsed": false,
    "ExecuteTime": {
     "end_time": "2023-04-30T11:50:28.176921200Z",
     "start_time": "2023-04-30T11:50:28.024702400Z"
    }
   }
  },
  {
   "cell_type": "code",
   "execution_count": 17,
   "outputs": [],
   "source": [
    "# Load the weights of the best solution into the model.\n",
    "best_solution = ga.best_solution\n",
    "load_params(iris_model, best_solution)"
   ],
   "metadata": {
    "collapsed": false,
    "ExecuteTime": {
     "end_time": "2023-04-30T11:50:28.285648800Z",
     "start_time": "2023-04-30T11:50:28.180640100Z"
    }
   }
  },
  {
   "cell_type": "code",
   "execution_count": 18,
   "outputs": [],
   "source": [
    "# Move the model and data to the CPU.\n",
    "iris_model = iris_model.cpu()\n",
    "X_train = X_train.cpu()\n",
    "y_train = y_train.cpu()"
   ],
   "metadata": {
    "collapsed": false,
    "ExecuteTime": {
     "end_time": "2023-04-30T11:50:28.285648800Z",
     "start_time": "2023-04-30T11:50:28.197498100Z"
    }
   }
  },
  {
   "cell_type": "code",
   "execution_count": 19,
   "outputs": [
    {
     "name": "stdout",
     "output_type": "stream",
     "text": [
      "On the training set:\n",
      "Crossentropy : 0.5933241844177246\n",
      "Accuracy : 0.9629629629629629\n",
      "On the testing set:\n",
      "Crossentropy : 0.6022319793701172\n",
      "Accuracy : 0.9333333333333333\n"
     ]
    }
   ],
   "source": [
    "# Calculate the metrics of the best solution.\n",
    "print(\"On the training set:\")\n",
    "calculate_metrics(X_train, y_train)\n",
    "print(\"On the testing set:\")\n",
    "calculate_metrics(X_test, y_test)"
   ],
   "metadata": {
    "collapsed": false,
    "ExecuteTime": {
     "end_time": "2023-04-30T11:50:28.285648800Z",
     "start_time": "2023-04-30T11:50:28.232576900Z"
    }
   }
  },
  {
   "cell_type": "markdown",
   "source": [
    "## Implementation using PyGAD library"
   ],
   "metadata": {
    "collapsed": false
   }
  },
  {
   "cell_type": "code",
   "execution_count": null,
   "outputs": [],
   "source": [
    "import pygad\n",
    "import pygad.torchga as torchga"
   ],
   "metadata": {
    "collapsed": false
   }
  },
  {
   "cell_type": "code",
   "execution_count": null,
   "outputs": [],
   "source": [
    "# Move the model and data to the CPU.\n",
    "iris_model = iris_model.cpu()\n",
    "X_train = X_train.cpu()\n",
    "y_train = y_train.cpu()"
   ],
   "metadata": {
    "collapsed": false
   }
  },
  {
   "cell_type": "code",
   "execution_count": 6,
   "metadata": {
    "ExecuteTime": {
     "end_time": "2023-04-27T23:16:31.846030Z",
     "start_time": "2023-04-27T23:16:31.831896Z"
    },
    "collapsed": false,
    "jupyter": {
     "outputs_hidden": false
    }
   },
   "outputs": [],
   "source": [
    "# Define the parameters.\n",
    "sol_per_pop = 10\n",
    "num_generations = 50"
   ]
  },
  {
   "cell_type": "code",
   "execution_count": 8,
   "metadata": {
    "ExecuteTime": {
     "end_time": "2023-04-27T23:16:32.887355Z",
     "start_time": "2023-04-27T23:16:32.871019Z"
    },
    "collapsed": false,
    "jupyter": {
     "outputs_hidden": false
    }
   },
   "outputs": [],
   "source": [
    "# Create an instance of the pygad.torchga.TorchGA class to build the initial population.\n",
    "torch_ga = torchga.TorchGA(\n",
    "    model=iris_model,\n",
    "    num_solutions=sol_per_pop,\n",
    ")"
   ]
  },
  {
   "cell_type": "code",
   "execution_count": 10,
   "metadata": {
    "ExecuteTime": {
     "end_time": "2023-04-27T23:16:39.430374Z",
     "start_time": "2023-04-27T23:16:39.403571Z"
    },
    "collapsed": false,
    "jupyter": {
     "outputs_hidden": false
    }
   },
   "outputs": [],
   "source": [
    "# Some parameters are initialized within the constructor.\n",
    "initial_population = torch_ga.population_weights"
   ]
  },
  {
   "cell_type": "code",
   "execution_count": 12,
   "metadata": {
    "ExecuteTime": {
     "end_time": "2023-04-27T23:16:41.104142Z",
     "start_time": "2023-04-27T23:16:41.091884Z"
    },
    "collapsed": false,
    "jupyter": {
     "outputs_hidden": false
    }
   },
   "outputs": [],
   "source": [
    "# Define the fitness function for classification.\n",
    "def fitness_func(_ga: pygad.GA, sol: np.ndarray, _sol_idx: int) -> float:\n",
    "    preds = torchga.predict(model=iris_model.cpu(),\n",
    "                            solution=sol,\n",
    "                            data=X_train)\n",
    "    fitness = 1.0 / (criterion(preds, y_train).detach().numpy() + 1e-8)\n",
    "    return fitness"
   ]
  },
  {
   "cell_type": "code",
   "execution_count": 164,
   "metadata": {
    "ExecuteTime": {
     "start_time": "2023-04-27T23:57:28.250360Z",
     "end_time": "2023-04-27T23:57:28.264360Z"
    },
    "collapsed": false,
    "jupyter": {
     "outputs_hidden": false
    }
   },
   "outputs": [],
   "source": [
    "# Define the callback function.\n",
    "# noinspection PyShadowingNames\n",
    "def on_generation(ga: pygad.GA) -> None:\n",
    "    print(f'Gen#{ga.generations_completed:0=2}, Fitness: {ga.best_solution()[1]}')"
   ]
  },
  {
   "cell_type": "code",
   "execution_count": 165,
   "metadata": {
    "ExecuteTime": {
     "start_time": "2023-04-27T23:57:28.542874Z",
     "end_time": "2023-04-27T23:57:28.548148Z"
    },
    "collapsed": false,
    "jupyter": {
     "outputs_hidden": false
    }
   },
   "outputs": [],
   "source": [
    "# Create an instance of the GA class inside the ga module.\n",
    "ga = pygad.GA(\n",
    "    num_generations=num_generations,\n",
    "    num_parents_mating=sol_per_pop // 2,\n",
    "    initial_population=initial_population,\n",
    "    fitness_func=fitness_func,\n",
    "    on_generation=on_generation,\n",
    ")"
   ]
  },
  {
   "cell_type": "code",
   "execution_count": 166,
   "metadata": {
    "ExecuteTime": {
     "start_time": "2023-04-27T23:57:28.754722Z",
     "end_time": "2023-04-27T23:57:29.512121Z"
    },
    "collapsed": false,
    "jupyter": {
     "outputs_hidden": false
    }
   },
   "outputs": [
    {
     "name": "stdout",
     "output_type": "stream",
     "text": [
      "Gen#01, Fitness: 1.1900599037353496\n",
      "Gen#02, Fitness: 1.1939120165478048\n",
      "Gen#03, Fitness: 1.2502427155310072\n",
      "Gen#04, Fitness: 1.2744013373097203\n",
      "Gen#05, Fitness: 1.2744013373097203\n",
      "Gen#06, Fitness: 1.3096510824545786\n",
      "Gen#07, Fitness: 1.313579069726608\n",
      "Gen#08, Fitness: 1.313579069726608\n",
      "Gen#09, Fitness: 1.4125254347724279\n",
      "Gen#10, Fitness: 1.4570124547086483\n",
      "Gen#11, Fitness: 1.4570124547086483\n",
      "Gen#12, Fitness: 1.4574750826808072\n",
      "Gen#13, Fitness: 1.5130824662310964\n",
      "Gen#14, Fitness: 1.570167458032895\n",
      "Gen#15, Fitness: 1.570167458032895\n",
      "Gen#16, Fitness: 1.570167458032895\n",
      "Gen#17, Fitness: 1.570167458032895\n",
      "Gen#18, Fitness: 1.5929823967826195\n",
      "Gen#19, Fitness: 1.5946400303453707\n",
      "Gen#20, Fitness: 1.6215502609794425\n",
      "Gen#21, Fitness: 1.6215502609794425\n",
      "Gen#22, Fitness: 1.6215502609794425\n",
      "Gen#23, Fitness: 1.6215502609794425\n",
      "Gen#24, Fitness: 1.6215502609794425\n",
      "Gen#25, Fitness: 1.6215502609794425\n",
      "Gen#26, Fitness: 1.6321193421385587\n",
      "Gen#27, Fitness: 1.6321193421385587\n",
      "Gen#28, Fitness: 1.6321193421385587\n",
      "Gen#29, Fitness: 1.6321193421385587\n",
      "Gen#30, Fitness: 1.6725702229093893\n",
      "Gen#31, Fitness: 1.6725702229093893\n",
      "Gen#32, Fitness: 1.6725702229093893\n",
      "Gen#33, Fitness: 1.6725702229093893\n",
      "Gen#34, Fitness: 1.680807366044052\n",
      "Gen#35, Fitness: 1.680807366044052\n",
      "Gen#36, Fitness: 1.680807366044052\n",
      "Gen#37, Fitness: 1.680807366044052\n",
      "Gen#38, Fitness: 1.680807366044052\n",
      "Gen#39, Fitness: 1.6910548628000404\n",
      "Gen#40, Fitness: 1.6910548628000404\n",
      "Gen#41, Fitness: 1.6910548628000404\n",
      "Gen#42, Fitness: 1.6910548628000404\n",
      "Gen#43, Fitness: 1.6910548628000404\n",
      "Gen#44, Fitness: 1.6910548628000404\n",
      "Gen#45, Fitness: 1.6917417118803206\n",
      "Gen#46, Fitness: 1.693811938088422\n",
      "Gen#47, Fitness: 1.693811938088422\n",
      "Gen#48, Fitness: 1.7127892177075088\n",
      "Gen#49, Fitness: 1.7127892177075088\n",
      "Gen#50, Fitness: 1.7237554958501575\n"
     ]
    }
   ],
   "source": [
    "# Run the genetic algorithm.\n",
    "ga.run()"
   ]
  },
  {
   "cell_type": "code",
   "execution_count": 16,
   "metadata": {
    "ExecuteTime": {
     "end_time": "2023-04-27T23:16:49.155192Z",
     "start_time": "2023-04-27T23:16:49.060477Z"
    },
    "collapsed": false,
    "jupyter": {
     "outputs_hidden": false
    }
   },
   "outputs": [
    {
     "data": {
      "image/png": "[encoded data removed]",
      "text/plain": [
       "<Figure size 640x480 with 1 Axes>"
      ]
     },
     "metadata": {},
     "output_type": "display_data"
    }
   ],
   "source": [
    "# After the generations complete, some plots are shown that summarize\n",
    "# how the outputs/fitness values evolve over generations.\n",
    "_ = ga.plot_fitness(\n",
    "    title=\"PyGAD & PyTorch - Iteration vs. Fitness\",\n",
    "    linewidth=4\n",
    ")"
   ]
  },
  {
   "cell_type": "code",
   "execution_count": 17,
   "metadata": {
    "ExecuteTime": {
     "end_time": "2023-04-27T23:16:51.411705Z",
     "start_time": "2023-04-27T23:16:51.382734Z"
    },
    "collapsed": false,
    "jupyter": {
     "outputs_hidden": false
    }
   },
   "outputs": [
    {
     "name": "stdout",
     "output_type": "stream",
     "text": [
      "Fitness value of the best solution = 1.7365702912376162\n",
      "Index of the best solution : 0\n"
     ]
    }
   ],
   "source": [
    "# Returning the details of the best solution.\n",
    "best_solution, best_solution_fitness, best_solution_idx = ga.best_solution()\n",
    "print(f\"Fitness value of the best solution = {best_solution_fitness}\")\n",
    "print(f\"Index of the best solution : {best_solution_idx}\")"
   ]
  },
  {
   "cell_type": "code",
   "execution_count": 18,
   "metadata": {
    "ExecuteTime": {
     "end_time": "2023-04-27T23:20:56.195916Z",
     "start_time": "2023-04-27T23:20:56.187258Z"
    },
    "collapsed": false,
    "jupyter": {
     "outputs_hidden": false
    }
   },
   "outputs": [
    {
     "data": {
      "text/plain": [
       "<All keys matched successfully>"
      ]
     },
     "execution_count": 18,
     "metadata": {},
     "output_type": "execute_result"
    }
   ],
   "source": [
    "# Fetch the parameters of the best solution.\n",
    "best_solution_weights = torchga.model_weights_as_dict(\n",
    "    model=iris_model,\n",
    "    weights_vector=best_solution\n",
    ")\n",
    "iris_model.load_state_dict(best_solution_weights)"
   ]
  },
  {
   "cell_type": "code",
   "execution_count": 20,
   "metadata": {
    "ExecuteTime": {
     "end_time": "2023-04-27T23:29:31.004746Z",
     "start_time": "2023-04-27T23:29:30.995236Z"
    },
    "collapsed": false,
    "jupyter": {
     "outputs_hidden": false
    }
   },
   "outputs": [
    {
     "name": "stdout",
     "output_type": "stream",
     "text": [
      "On the training set:\n",
      "Crossentropy : 0.5758476853370667\n",
      "Accuracy : 0.9851851851851852\n"
     ]
    }
   ],
   "source": [
    "print(\"On the training set:\")\n",
    "calculate_metrics(X_train, y_train)"
   ]
  },
  {
   "cell_type": "code",
   "execution_count": 21,
   "metadata": {
    "ExecuteTime": {
     "end_time": "2023-04-27T23:29:31.825525Z",
     "start_time": "2023-04-27T23:29:31.804163Z"
    },
    "collapsed": false,
    "jupyter": {
     "outputs_hidden": false
    }
   },
   "outputs": [
    {
     "name": "stdout",
     "output_type": "stream",
     "text": [
      "On the testing set:\n",
      "Crossentropy : 0.5540574193000793\n",
      "Accuracy : 1.0\n"
     ]
    }
   ],
   "source": [
    "print(\"On the testing set:\")\n",
    "calculate_metrics(X_test, y_test)"
   ]
  }
 ],
 "metadata": {
  "kernelspec": {
   "display_name": "Python 3 (ipykernel)",
   "language": "python",
   "name": "python3"
  },
  "language_info": {
   "codemirror_mode": {
    "name": "ipython",
    "version": 3
   },
   "file_extension": ".py",
   "mimetype": "text/x-python",
   "name": "python",
   "nbconvert_exporter": "python",
   "pygments_lexer": "ipython3",
   "version": "3.10.11"
  }
 },
 "nbformat": 4,
 "nbformat_minor": 4
}
